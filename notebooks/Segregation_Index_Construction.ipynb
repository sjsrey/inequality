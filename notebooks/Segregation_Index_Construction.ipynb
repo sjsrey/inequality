{
 "cells": [
  {
   "cell_type": "markdown",
   "metadata": {},
   "source": [
    "# Inference Framework for Segregation Measures: Spatial Permutation Approach "
   ]
  },
  {
   "cell_type": "code",
   "execution_count": 1,
   "metadata": {},
   "outputs": [
    {
     "name": "stderr",
     "output_type": "stream",
     "text": [
      "C:\\Users\\renan\\AppData\\Local\\Continuum\\anaconda3\\lib\\site-packages\\pysal\\__init__.py:65: VisibleDeprecationWarning: PySAL's API will be changed on 2018-12-31. The last release made with this API is version 1.14.4. A preview of the next API version is provided in the `pysal` 2.0 prelease candidate. The API changes and a guide on how to change imports is provided at https://pysal.org/about\n",
      "  ), VisibleDeprecationWarning)\n"
     ]
    }
   ],
   "source": [
    "import pandas as pd\n",
    "import pysal as ps\n",
    "import geopandas as gpd\n",
    "import scipy\n",
    "import numpy as np\n",
    "from sklearn.metrics.pairwise import euclidean_distances\n",
    "from scipy.ndimage.interpolation import shift"
   ]
  },
  {
   "cell_type": "markdown",
   "metadata": {},
   "source": [
    "### Reading the entire dataset of Census"
   ]
  },
  {
   "cell_type": "code",
   "execution_count": 2,
   "metadata": {},
   "outputs": [
    {
     "data": {
      "text/html": [
       "<div>\n",
       "<style scoped>\n",
       "    .dataframe tbody tr th:only-of-type {\n",
       "        vertical-align: middle;\n",
       "    }\n",
       "\n",
       "    .dataframe tbody tr th {\n",
       "        vertical-align: top;\n",
       "    }\n",
       "\n",
       "    .dataframe thead th {\n",
       "        text-align: right;\n",
       "    }\n",
       "</style>\n",
       "<table border=\"1\" class=\"dataframe\">\n",
       "  <thead>\n",
       "    <tr style=\"text-align: right;\">\n",
       "      <th></th>\n",
       "      <th>trtid10</th>\n",
       "      <th>state</th>\n",
       "      <th>county</th>\n",
       "      <th>tract</th>\n",
       "      <th>pop10</th>\n",
       "      <th>nhwht10</th>\n",
       "      <th>nhblk10</th>\n",
       "      <th>ntv10</th>\n",
       "      <th>asian10</th>\n",
       "      <th>hisp10</th>\n",
       "      <th>...</th>\n",
       "      <th>a15hsp10</th>\n",
       "      <th>a60hsp10</th>\n",
       "      <th>ageasn10</th>\n",
       "      <th>a15asn10</th>\n",
       "      <th>a60asn10</th>\n",
       "      <th>agentv10</th>\n",
       "      <th>a15ntv10</th>\n",
       "      <th>a60ntv10</th>\n",
       "      <th>globd10</th>\n",
       "      <th>globg10</th>\n",
       "    </tr>\n",
       "  </thead>\n",
       "  <tbody>\n",
       "    <tr>\n",
       "      <th>0</th>\n",
       "      <td>1001020100</td>\n",
       "      <td>AL</td>\n",
       "      <td>Autauga County</td>\n",
       "      <td>Census Tract 201</td>\n",
       "      <td>1912</td>\n",
       "      <td>1601</td>\n",
       "      <td>228</td>\n",
       "      <td>21</td>\n",
       "      <td>16</td>\n",
       "      <td>44</td>\n",
       "      <td>...</td>\n",
       "      <td>14</td>\n",
       "      <td>2</td>\n",
       "      <td>14</td>\n",
       "      <td>4</td>\n",
       "      <td>1</td>\n",
       "      <td>13</td>\n",
       "      <td>1</td>\n",
       "      <td>3</td>\n",
       "      <td>bw</td>\n",
       "      <td>White Black</td>\n",
       "    </tr>\n",
       "    <tr>\n",
       "      <th>1</th>\n",
       "      <td>6083002402</td>\n",
       "      <td>CA</td>\n",
       "      <td>Santa Barbara County</td>\n",
       "      <td>Census Tract 24.02</td>\n",
       "      <td>11406</td>\n",
       "      <td>1980</td>\n",
       "      <td>207</td>\n",
       "      <td>54</td>\n",
       "      <td>703</td>\n",
       "      <td>8439</td>\n",
       "      <td>...</td>\n",
       "      <td>2972</td>\n",
       "      <td>414</td>\n",
       "      <td>624</td>\n",
       "      <td>119</td>\n",
       "      <td>75</td>\n",
       "      <td>26</td>\n",
       "      <td>4</td>\n",
       "      <td>3</td>\n",
       "      <td>wha</td>\n",
       "      <td>Dual immig</td>\n",
       "    </tr>\n",
       "    <tr>\n",
       "      <th>2</th>\n",
       "      <td>1001020200</td>\n",
       "      <td>AL</td>\n",
       "      <td>Autauga County</td>\n",
       "      <td>Census Tract 202</td>\n",
       "      <td>2170</td>\n",
       "      <td>844</td>\n",
       "      <td>1226</td>\n",
       "      <td>9</td>\n",
       "      <td>13</td>\n",
       "      <td>75</td>\n",
       "      <td>...</td>\n",
       "      <td>14</td>\n",
       "      <td>1</td>\n",
       "      <td>5</td>\n",
       "      <td>0</td>\n",
       "      <td>0</td>\n",
       "      <td>5</td>\n",
       "      <td>3</td>\n",
       "      <td>1</td>\n",
       "      <td>bw</td>\n",
       "      <td>White Black</td>\n",
       "    </tr>\n",
       "    <tr>\n",
       "      <th>3</th>\n",
       "      <td>6083002102</td>\n",
       "      <td>CA</td>\n",
       "      <td>Santa Barbara County</td>\n",
       "      <td>Census Tract 21.02</td>\n",
       "      <td>2084</td>\n",
       "      <td>853</td>\n",
       "      <td>24</td>\n",
       "      <td>24</td>\n",
       "      <td>88</td>\n",
       "      <td>1088</td>\n",
       "      <td>...</td>\n",
       "      <td>342</td>\n",
       "      <td>84</td>\n",
       "      <td>61</td>\n",
       "      <td>4</td>\n",
       "      <td>16</td>\n",
       "      <td>11</td>\n",
       "      <td>0</td>\n",
       "      <td>4</td>\n",
       "      <td>wha</td>\n",
       "      <td>Dual immig</td>\n",
       "    </tr>\n",
       "    <tr>\n",
       "      <th>4</th>\n",
       "      <td>1001020300</td>\n",
       "      <td>AL</td>\n",
       "      <td>Autauga County</td>\n",
       "      <td>Census Tract 203</td>\n",
       "      <td>3373</td>\n",
       "      <td>2538</td>\n",
       "      <td>668</td>\n",
       "      <td>30</td>\n",
       "      <td>42</td>\n",
       "      <td>87</td>\n",
       "      <td>...</td>\n",
       "      <td>34</td>\n",
       "      <td>9</td>\n",
       "      <td>22</td>\n",
       "      <td>2</td>\n",
       "      <td>7</td>\n",
       "      <td>9</td>\n",
       "      <td>1</td>\n",
       "      <td>3</td>\n",
       "      <td>bw</td>\n",
       "      <td>White Black</td>\n",
       "    </tr>\n",
       "  </tbody>\n",
       "</table>\n",
       "<p>5 rows × 47 columns</p>\n",
       "</div>"
      ],
      "text/plain": [
       "      trtid10 state                county               tract  pop10  nhwht10  \\\n",
       "0  1001020100    AL        Autauga County    Census Tract 201   1912     1601   \n",
       "1  6083002402    CA  Santa Barbara County  Census Tract 24.02  11406     1980   \n",
       "2  1001020200    AL        Autauga County    Census Tract 202   2170      844   \n",
       "3  6083002102    CA  Santa Barbara County  Census Tract 21.02   2084      853   \n",
       "4  1001020300    AL        Autauga County    Census Tract 203   3373     2538   \n",
       "\n",
       "   nhblk10  ntv10  asian10  hisp10     ...       a15hsp10  a60hsp10  ageasn10  \\\n",
       "0      228     21       16      44     ...             14         2        14   \n",
       "1      207     54      703    8439     ...           2972       414       624   \n",
       "2     1226      9       13      75     ...             14         1         5   \n",
       "3       24     24       88    1088     ...            342        84        61   \n",
       "4      668     30       42      87     ...             34         9        22   \n",
       "\n",
       "   a15asn10  a60asn10  agentv10  a15ntv10  a60ntv10  globd10      globg10  \n",
       "0         4         1        13         1         3       bw  White Black  \n",
       "1       119        75        26         4         3      wha   Dual immig  \n",
       "2         0         0         5         3         1       bw  White Black  \n",
       "3         4        16        11         0         4      wha   Dual immig  \n",
       "4         2         7         9         1         3       bw  White Black  \n",
       "\n",
       "[5 rows x 47 columns]"
      ]
     },
     "execution_count": 2,
     "metadata": {},
     "output_type": "execute_result"
    }
   ],
   "source": [
    "census_2010 = pd.read_csv(\"data/std_2010_fullcount.csv\", encoding = \"ISO-8859-1\", sep = \",\")\n",
    "census_2010.head()"
   ]
  },
  {
   "cell_type": "markdown",
   "metadata": {},
   "source": [
    "This is a Inference Framework for segregation for non-hispanic black people for the Riverside County. So, let's just filter the data that we need: "
   ]
  },
  {
   "cell_type": "code",
   "execution_count": 3,
   "metadata": {},
   "outputs": [],
   "source": [
    "df = census_2010.loc[census_2010.county == \"Riverside County\"][['trtid10','tract','pop10','nhblk10']]"
   ]
  },
  {
   "cell_type": "code",
   "execution_count": 4,
   "metadata": {},
   "outputs": [
    {
     "data": {
      "text/html": [
       "<div>\n",
       "<style scoped>\n",
       "    .dataframe tbody tr th:only-of-type {\n",
       "        vertical-align: middle;\n",
       "    }\n",
       "\n",
       "    .dataframe tbody tr th {\n",
       "        vertical-align: top;\n",
       "    }\n",
       "\n",
       "    .dataframe thead th {\n",
       "        text-align: right;\n",
       "    }\n",
       "</style>\n",
       "<table border=\"1\" class=\"dataframe\">\n",
       "  <thead>\n",
       "    <tr style=\"text-align: right;\">\n",
       "      <th></th>\n",
       "      <th>trtid10</th>\n",
       "      <th>tract</th>\n",
       "      <th>pop10</th>\n",
       "      <th>nhblk10</th>\n",
       "    </tr>\n",
       "  </thead>\n",
       "  <tbody>\n",
       "    <tr>\n",
       "      <th>5727</th>\n",
       "      <td>6065042012</td>\n",
       "      <td>Census Tract 420.12</td>\n",
       "      <td>6242</td>\n",
       "      <td>677</td>\n",
       "    </tr>\n",
       "    <tr>\n",
       "      <th>5729</th>\n",
       "      <td>6065041911</td>\n",
       "      <td>Census Tract 419.11</td>\n",
       "      <td>10258</td>\n",
       "      <td>844</td>\n",
       "    </tr>\n",
       "    <tr>\n",
       "      <th>5731</th>\n",
       "      <td>6065041910</td>\n",
       "      <td>Census Tract 419.10</td>\n",
       "      <td>6342</td>\n",
       "      <td>405</td>\n",
       "    </tr>\n",
       "    <tr>\n",
       "      <th>5733</th>\n",
       "      <td>6065040816</td>\n",
       "      <td>Census Tract 408.16</td>\n",
       "      <td>2594</td>\n",
       "      <td>346</td>\n",
       "    </tr>\n",
       "    <tr>\n",
       "      <th>5735</th>\n",
       "      <td>6065040815</td>\n",
       "      <td>Census Tract 408.15</td>\n",
       "      <td>3586</td>\n",
       "      <td>429</td>\n",
       "    </tr>\n",
       "  </tbody>\n",
       "</table>\n",
       "</div>"
      ],
      "text/plain": [
       "         trtid10                tract  pop10  nhblk10\n",
       "5727  6065042012  Census Tract 420.12   6242      677\n",
       "5729  6065041911  Census Tract 419.11  10258      844\n",
       "5731  6065041910  Census Tract 419.10   6342      405\n",
       "5733  6065040816  Census Tract 408.16   2594      346\n",
       "5735  6065040815  Census Tract 408.15   3586      429"
      ]
     },
     "execution_count": 4,
     "metadata": {},
     "output_type": "execute_result"
    }
   ],
   "source": [
    "df.head()"
   ]
  },
  {
   "cell_type": "markdown",
   "metadata": {},
   "source": [
    "### Reading the apropriate map file and Merging with the data"
   ]
  },
  {
   "cell_type": "code",
   "execution_count": 6,
   "metadata": {},
   "outputs": [
    {
     "name": "stdout",
     "output_type": "stream",
     "text": [
      "<class 'geopandas.geodataframe.GeoDataFrame'>\n",
      "RangeIndex: 453 entries, 0 to 452\n",
      "Data columns (total 13 columns):\n",
      "STATEFP10     453 non-null object\n",
      "COUNTYFP10    453 non-null object\n",
      "TRACTCE10     453 non-null object\n",
      "GEOID10       453 non-null object\n",
      "NAME10        453 non-null object\n",
      "COUNTY_ID     453 non-null object\n",
      "county_id2    453 non-null int64\n",
      "COUNTYNS10    453 non-null int64\n",
      "NAME10_COU    453 non-null object\n",
      "GEOID_MSA     453 non-null int64\n",
      "NAME_MSA      453 non-null object\n",
      "STATES_MSA    453 non-null object\n",
      "geometry      453 non-null object\n",
      "dtypes: int64(3), object(10)\n",
      "memory usage: 46.1+ KB\n"
     ]
    }
   ],
   "source": [
    "map_gpd = gpd.read_file(\"shapefiles/06065_Riverside_County.shp\")\n",
    "map_gpd.info()"
   ]
  },
  {
   "cell_type": "code",
   "execution_count": 7,
   "metadata": {},
   "outputs": [
    {
     "data": {
      "text/plain": [
       "<matplotlib.axes._subplots.AxesSubplot at 0x20272283cc0>"
      ]
     },
     "execution_count": 7,
     "metadata": {},
     "output_type": "execute_result"
    },
    {
     "data": {
      "image/png": "[encoded data removed]",
      "text/plain": [
       "<Figure size 432x288 with 1 Axes>"
      ]
     },
     "metadata": {},
     "output_type": "display_data"
    }
   ],
   "source": [
    "%matplotlib inline\n",
    "map_gpd.plot()"
   ]
  },
  {
   "cell_type": "markdown",
   "metadata": {},
   "source": [
    "It is necessary to harmonize the data type of the dataset and the geopandas in order to work the merging procedure."
   ]
  },
  {
   "cell_type": "code",
   "execution_count": 8,
   "metadata": {},
   "outputs": [],
   "source": [
    "map_gpd['INTGEOID10'] = pd.to_numeric(map_gpd[\"GEOID10\"])\n",
    "df_map = map_gpd.merge(df, left_on = 'INTGEOID10', right_on = 'trtid10')"
   ]
  },
  {
   "cell_type": "markdown",
   "metadata": {},
   "source": [
    "Extracting only the columns that the inference framework will use."
   ]
  },
  {
   "cell_type": "code",
   "execution_count": 9,
   "metadata": {},
   "outputs": [
    {
     "data": {
      "text/html": [
       "<div>\n",
       "<style scoped>\n",
       "    .dataframe tbody tr th:only-of-type {\n",
       "        vertical-align: middle;\n",
       "    }\n",
       "\n",
       "    .dataframe tbody tr th {\n",
       "        vertical-align: top;\n",
       "    }\n",
       "\n",
       "    .dataframe thead th {\n",
       "        text-align: right;\n",
       "    }\n",
       "</style>\n",
       "<table border=\"1\" class=\"dataframe\">\n",
       "  <thead>\n",
       "    <tr style=\"text-align: right;\">\n",
       "      <th></th>\n",
       "      <th>GEOID10</th>\n",
       "      <th>tract</th>\n",
       "      <th>geometry</th>\n",
       "      <th>pop10</th>\n",
       "      <th>nhblk10</th>\n",
       "    </tr>\n",
       "  </thead>\n",
       "  <tbody>\n",
       "    <tr>\n",
       "      <th>0</th>\n",
       "      <td>06065042012</td>\n",
       "      <td>Census Tract 420.12</td>\n",
       "      <td>POLYGON ((-117.319414 33.902109, -117.322528 3...</td>\n",
       "      <td>6242</td>\n",
       "      <td>677</td>\n",
       "    </tr>\n",
       "    <tr>\n",
       "      <th>1</th>\n",
       "      <td>06065041911</td>\n",
       "      <td>Census Tract 419.11</td>\n",
       "      <td>POLYGON ((-117.504056 33.800257, -117.502758 3...</td>\n",
       "      <td>10258</td>\n",
       "      <td>844</td>\n",
       "    </tr>\n",
       "    <tr>\n",
       "      <th>2</th>\n",
       "      <td>06065041910</td>\n",
       "      <td>Census Tract 419.10</td>\n",
       "      <td>POLYGON ((-117.472451 33.762031, -117.475661 3...</td>\n",
       "      <td>6342</td>\n",
       "      <td>405</td>\n",
       "    </tr>\n",
       "    <tr>\n",
       "      <th>3</th>\n",
       "      <td>06065040816</td>\n",
       "      <td>Census Tract 408.16</td>\n",
       "      <td>POLYGON ((-117.5285 33.89736, -117.529425 33.8...</td>\n",
       "      <td>2594</td>\n",
       "      <td>346</td>\n",
       "    </tr>\n",
       "    <tr>\n",
       "      <th>4</th>\n",
       "      <td>06065040815</td>\n",
       "      <td>Census Tract 408.15</td>\n",
       "      <td>POLYGON ((-117.501299 33.89424899999999, -117....</td>\n",
       "      <td>3586</td>\n",
       "      <td>429</td>\n",
       "    </tr>\n",
       "  </tbody>\n",
       "</table>\n",
       "</div>"
      ],
      "text/plain": [
       "       GEOID10                tract  \\\n",
       "0  06065042012  Census Tract 420.12   \n",
       "1  06065041911  Census Tract 419.11   \n",
       "2  06065041910  Census Tract 419.10   \n",
       "3  06065040816  Census Tract 408.16   \n",
       "4  06065040815  Census Tract 408.15   \n",
       "\n",
       "                                            geometry  pop10  nhblk10  \n",
       "0  POLYGON ((-117.319414 33.902109, -117.322528 3...   6242      677  \n",
       "1  POLYGON ((-117.504056 33.800257, -117.502758 3...  10258      844  \n",
       "2  POLYGON ((-117.472451 33.762031, -117.475661 3...   6342      405  \n",
       "3  POLYGON ((-117.5285 33.89736, -117.529425 33.8...   2594      346  \n",
       "4  POLYGON ((-117.501299 33.89424899999999, -117....   3586      429  "
      ]
     },
     "execution_count": 9,
     "metadata": {},
     "output_type": "execute_result"
    }
   ],
   "source": [
    "df_mp = df_map[['GEOID10', 'tract', 'geometry', 'pop10', 'nhblk10']]\n",
    "df_mp.head()"
   ]
  },
  {
   "cell_type": "markdown",
   "metadata": {},
   "source": [
    "# First measure of segregation: Uneveness"
   ]
  },
  {
   "cell_type": "markdown",
   "metadata": {},
   "source": [
    "According to (The Dimensions of Residential Segregation paper), the eveness refers to the differential distribution of two social groups among areal units in space. The chosen minority group, non-hispanic Black people in this case, is said to be segregated if it is unevenly distributed over  areal units. "
   ]
  },
  {
   "cell_type": "markdown",
   "metadata": {},
   "source": [
    "The percentage (%) of black people in Riverside County is:"
   ]
  },
  {
   "cell_type": "code",
   "execution_count": 10,
   "metadata": {},
   "outputs": [
    {
     "data": {
      "text/plain": [
       "6.780106875967339"
      ]
     },
     "execution_count": 10,
     "metadata": {},
     "output_type": "execute_result"
    }
   ],
   "source": [
    "df_mp.nhblk10.sum()/df_mp.pop10.sum() * 100"
   ]
  },
  {
   "cell_type": "markdown",
   "metadata": {},
   "source": [
    "However, inside each census tract, there are some level of variation of this percentage:"
   ]
  },
  {
   "cell_type": "code",
   "execution_count": 11,
   "metadata": {},
   "outputs": [
    {
     "data": {
      "text/plain": [
       "0    10.845883\n",
       "1     8.227725\n",
       "2     6.385998\n",
       "3    13.338473\n",
       "4    11.963190\n",
       "5    14.784609\n",
       "6     3.486842\n",
       "7     1.350575\n",
       "8    12.102497\n",
       "9     6.090026\n",
       "dtype: float64"
      ]
     },
     "execution_count": 11,
     "metadata": {},
     "output_type": "execute_result"
    }
   ],
   "source": [
    "(df_mp.nhblk10/df_mp.pop10 * 100).head(10)"
   ]
  },
  {
   "cell_type": "markdown",
   "metadata": {},
   "source": [
    "In order to calculate D, we have to know ti (simple the tract population), pi, P and T."
   ]
  },
  {
   "cell_type": "code",
   "execution_count": 12,
   "metadata": {},
   "outputs": [
    {
     "name": "stderr",
     "output_type": "stream",
     "text": [
      "C:\\Users\\renan\\AppData\\Local\\Continuum\\anaconda3\\lib\\site-packages\\ipykernel_launcher.py:3: SettingWithCopyWarning: \n",
      "A value is trying to be set on a copy of a slice from a DataFrame.\n",
      "Try using .loc[row_indexer,col_indexer] = value instead\n",
      "\n",
      "See the caveats in the documentation: http://pandas.pydata.org/pandas-docs/stable/indexing.html#indexing-view-versus-copy\n",
      "  This is separate from the ipykernel package so we can avoid doing imports until\n",
      "C:\\Users\\renan\\AppData\\Local\\Continuum\\anaconda3\\lib\\site-packages\\ipykernel_launcher.py:4: SettingWithCopyWarning: \n",
      "A value is trying to be set on a copy of a slice from a DataFrame.\n",
      "Try using .loc[row_indexer,col_indexer] = value instead\n",
      "\n",
      "See the caveats in the documentation: http://pandas.pydata.org/pandas-docs/stable/indexing.html#indexing-view-versus-copy\n",
      "  after removing the cwd from sys.path.\n"
     ]
    },
    {
     "data": {
      "text/html": [
       "<div>\n",
       "<style scoped>\n",
       "    .dataframe tbody tr th:only-of-type {\n",
       "        vertical-align: middle;\n",
       "    }\n",
       "\n",
       "    .dataframe tbody tr th {\n",
       "        vertical-align: top;\n",
       "    }\n",
       "\n",
       "    .dataframe thead th {\n",
       "        text-align: right;\n",
       "    }\n",
       "</style>\n",
       "<table border=\"1\" class=\"dataframe\">\n",
       "  <thead>\n",
       "    <tr style=\"text-align: right;\">\n",
       "      <th></th>\n",
       "      <th>GEOID10</th>\n",
       "      <th>tract</th>\n",
       "      <th>geometry</th>\n",
       "      <th>pop10</th>\n",
       "      <th>nhblk10</th>\n",
       "      <th>ti</th>\n",
       "      <th>pi</th>\n",
       "    </tr>\n",
       "  </thead>\n",
       "  <tbody>\n",
       "    <tr>\n",
       "      <th>0</th>\n",
       "      <td>06065042012</td>\n",
       "      <td>Census Tract 420.12</td>\n",
       "      <td>POLYGON ((-117.319414 33.902109, -117.322528 3...</td>\n",
       "      <td>6242</td>\n",
       "      <td>677</td>\n",
       "      <td>6242</td>\n",
       "      <td>0.108459</td>\n",
       "    </tr>\n",
       "    <tr>\n",
       "      <th>1</th>\n",
       "      <td>06065041911</td>\n",
       "      <td>Census Tract 419.11</td>\n",
       "      <td>POLYGON ((-117.504056 33.800257, -117.502758 3...</td>\n",
       "      <td>10258</td>\n",
       "      <td>844</td>\n",
       "      <td>10258</td>\n",
       "      <td>0.082277</td>\n",
       "    </tr>\n",
       "    <tr>\n",
       "      <th>2</th>\n",
       "      <td>06065041910</td>\n",
       "      <td>Census Tract 419.10</td>\n",
       "      <td>POLYGON ((-117.472451 33.762031, -117.475661 3...</td>\n",
       "      <td>6342</td>\n",
       "      <td>405</td>\n",
       "      <td>6342</td>\n",
       "      <td>0.063860</td>\n",
       "    </tr>\n",
       "    <tr>\n",
       "      <th>3</th>\n",
       "      <td>06065040816</td>\n",
       "      <td>Census Tract 408.16</td>\n",
       "      <td>POLYGON ((-117.5285 33.89736, -117.529425 33.8...</td>\n",
       "      <td>2594</td>\n",
       "      <td>346</td>\n",
       "      <td>2594</td>\n",
       "      <td>0.133385</td>\n",
       "    </tr>\n",
       "    <tr>\n",
       "      <th>4</th>\n",
       "      <td>06065040815</td>\n",
       "      <td>Census Tract 408.15</td>\n",
       "      <td>POLYGON ((-117.501299 33.89424899999999, -117....</td>\n",
       "      <td>3586</td>\n",
       "      <td>429</td>\n",
       "      <td>3586</td>\n",
       "      <td>0.119632</td>\n",
       "    </tr>\n",
       "  </tbody>\n",
       "</table>\n",
       "</div>"
      ],
      "text/plain": [
       "       GEOID10                tract  \\\n",
       "0  06065042012  Census Tract 420.12   \n",
       "1  06065041911  Census Tract 419.11   \n",
       "2  06065041910  Census Tract 419.10   \n",
       "3  06065040816  Census Tract 408.16   \n",
       "4  06065040815  Census Tract 408.15   \n",
       "\n",
       "                                            geometry  pop10  nhblk10     ti  \\\n",
       "0  POLYGON ((-117.319414 33.902109, -117.322528 3...   6242      677   6242   \n",
       "1  POLYGON ((-117.504056 33.800257, -117.502758 3...  10258      844  10258   \n",
       "2  POLYGON ((-117.472451 33.762031, -117.475661 3...   6342      405   6342   \n",
       "3  POLYGON ((-117.5285 33.89736, -117.529425 33.8...   2594      346   2594   \n",
       "4  POLYGON ((-117.501299 33.89424899999999, -117....   3586      429   3586   \n",
       "\n",
       "         pi  \n",
       "0  0.108459  \n",
       "1  0.082277  \n",
       "2  0.063860  \n",
       "3  0.133385  \n",
       "4  0.119632  "
      ]
     },
     "execution_count": 12,
     "metadata": {},
     "output_type": "execute_result"
    }
   ],
   "source": [
    "T = df_mp.pop10.sum()\n",
    "P = df_mp.nhblk10.sum() / T\n",
    "df_mp['ti'] = df_mp.pop10\n",
    "df_mp['pi'] = df_mp.nhblk10 /df_mp.pop10\n",
    "df_mp.head()"
   ]
  },
  {
   "cell_type": "code",
   "execution_count": 13,
   "metadata": {},
   "outputs": [
    {
     "data": {
      "text/plain": [
       "0.31565682496226544"
      ]
     },
     "execution_count": 13,
     "metadata": {},
     "output_type": "execute_result"
    }
   ],
   "source": [
    "D = (((df_mp.pop10 * abs(df_mp.pi - P)))/ (2 * T * P * (1 - P))).sum()\n",
    "D"
   ]
  },
  {
   "cell_type": "markdown",
   "metadata": {},
   "source": [
    " The interpretation of this value is that 31.57% of the black population would have to move to reach eveness in the Riverside County."
   ]
  },
  {
   "cell_type": "markdown",
   "metadata": {},
   "source": [
    "# Second measure of segregation: Isolation"
   ]
  },
  {
   "cell_type": "markdown",
   "metadata": {},
   "source": [
    "Isolation assess how much a minority group is only exposed to the same group. In other words, how much they only interact the members of the group that they belong.\n",
    "\n",
    "The formula takes in consideration the count number (xi) of the minority group and the total population of this minority (X)."
   ]
  },
  {
   "cell_type": "code",
   "execution_count": 14,
   "metadata": {},
   "outputs": [
    {
     "name": "stderr",
     "output_type": "stream",
     "text": [
      "C:\\Users\\renan\\AppData\\Local\\Continuum\\anaconda3\\lib\\site-packages\\ipykernel_launcher.py:1: SettingWithCopyWarning: \n",
      "A value is trying to be set on a copy of a slice from a DataFrame.\n",
      "Try using .loc[row_indexer,col_indexer] = value instead\n",
      "\n",
      "See the caveats in the documentation: http://pandas.pydata.org/pandas-docs/stable/indexing.html#indexing-view-versus-copy\n",
      "  \"\"\"Entry point for launching an IPython kernel.\n"
     ]
    }
   ],
   "source": [
    "df_mp['xi'] = df_mp.nhblk10\n",
    "X = df_mp['xi'].sum()"
   ]
  },
  {
   "cell_type": "code",
   "execution_count": 15,
   "metadata": {},
   "outputs": [
    {
     "data": {
      "text/plain": [
       "0.11321482777341298"
      ]
     },
     "execution_count": 15,
     "metadata": {},
     "output_type": "execute_result"
    }
   ],
   "source": [
    "xPx = ((df_mp.xi / X) * (df_mp.xi / df_mp.ti)).sum()\n",
    "xPx"
   ]
  },
  {
   "cell_type": "markdown",
   "metadata": {},
   "source": [
    "The interpretation of this number is that if you randomly pick a X member of a specific area, there is 11.32% of probability that this member shares a unit with another X member."
   ]
  },
  {
   "cell_type": "markdown",
   "metadata": {},
   "source": [
    "# Third measure of segregation: Clustering"
   ]
  },
  {
   "cell_type": "markdown",
   "metadata": {},
   "source": [
    "The clustering measure assess the extent to which areal units inhabited by minority members adjoin one another, or cluster, in space. This Spatial Proximity Index (SP) is evaluated between two distinct groups X (non-hispanic black) and Y (other than non-hipanic black)."
   ]
  },
  {
   "cell_type": "code",
   "execution_count": 16,
   "metadata": {},
   "outputs": [
    {
     "name": "stderr",
     "output_type": "stream",
     "text": [
      "C:\\Users\\renan\\AppData\\Local\\Continuum\\anaconda3\\lib\\site-packages\\ipykernel_launcher.py:1: SettingWithCopyWarning: \n",
      "A value is trying to be set on a copy of a slice from a DataFrame.\n",
      "Try using .loc[row_indexer,col_indexer] = value instead\n",
      "\n",
      "See the caveats in the documentation: http://pandas.pydata.org/pandas-docs/stable/indexing.html#indexing-view-versus-copy\n",
      "  \"\"\"Entry point for launching an IPython kernel.\n"
     ]
    }
   ],
   "source": [
    "df_mp['yi'] = df_mp.pop10 - df_mp.nhblk10\n",
    "Y = df_mp.yi.sum()"
   ]
  },
  {
   "cell_type": "code",
   "execution_count": 17,
   "metadata": {},
   "outputs": [
    {
     "data": {
      "text/html": [
       "<div>\n",
       "<style scoped>\n",
       "    .dataframe tbody tr th:only-of-type {\n",
       "        vertical-align: middle;\n",
       "    }\n",
       "\n",
       "    .dataframe tbody tr th {\n",
       "        vertical-align: top;\n",
       "    }\n",
       "\n",
       "    .dataframe thead th {\n",
       "        text-align: right;\n",
       "    }\n",
       "</style>\n",
       "<table border=\"1\" class=\"dataframe\">\n",
       "  <thead>\n",
       "    <tr style=\"text-align: right;\">\n",
       "      <th></th>\n",
       "      <th>GEOID10</th>\n",
       "      <th>tract</th>\n",
       "      <th>geometry</th>\n",
       "      <th>pop10</th>\n",
       "      <th>nhblk10</th>\n",
       "      <th>ti</th>\n",
       "      <th>pi</th>\n",
       "      <th>xi</th>\n",
       "      <th>yi</th>\n",
       "    </tr>\n",
       "  </thead>\n",
       "  <tbody>\n",
       "    <tr>\n",
       "      <th>0</th>\n",
       "      <td>06065042012</td>\n",
       "      <td>Census Tract 420.12</td>\n",
       "      <td>POLYGON ((-117.319414 33.902109, -117.322528 3...</td>\n",
       "      <td>6242</td>\n",
       "      <td>677</td>\n",
       "      <td>6242</td>\n",
       "      <td>0.108459</td>\n",
       "      <td>677</td>\n",
       "      <td>5565</td>\n",
       "    </tr>\n",
       "    <tr>\n",
       "      <th>1</th>\n",
       "      <td>06065041911</td>\n",
       "      <td>Census Tract 419.11</td>\n",
       "      <td>POLYGON ((-117.504056 33.800257, -117.502758 3...</td>\n",
       "      <td>10258</td>\n",
       "      <td>844</td>\n",
       "      <td>10258</td>\n",
       "      <td>0.082277</td>\n",
       "      <td>844</td>\n",
       "      <td>9414</td>\n",
       "    </tr>\n",
       "    <tr>\n",
       "      <th>2</th>\n",
       "      <td>06065041910</td>\n",
       "      <td>Census Tract 419.10</td>\n",
       "      <td>POLYGON ((-117.472451 33.762031, -117.475661 3...</td>\n",
       "      <td>6342</td>\n",
       "      <td>405</td>\n",
       "      <td>6342</td>\n",
       "      <td>0.063860</td>\n",
       "      <td>405</td>\n",
       "      <td>5937</td>\n",
       "    </tr>\n",
       "    <tr>\n",
       "      <th>3</th>\n",
       "      <td>06065040816</td>\n",
       "      <td>Census Tract 408.16</td>\n",
       "      <td>POLYGON ((-117.5285 33.89736, -117.529425 33.8...</td>\n",
       "      <td>2594</td>\n",
       "      <td>346</td>\n",
       "      <td>2594</td>\n",
       "      <td>0.133385</td>\n",
       "      <td>346</td>\n",
       "      <td>2248</td>\n",
       "    </tr>\n",
       "    <tr>\n",
       "      <th>4</th>\n",
       "      <td>06065040815</td>\n",
       "      <td>Census Tract 408.15</td>\n",
       "      <td>POLYGON ((-117.501299 33.89424899999999, -117....</td>\n",
       "      <td>3586</td>\n",
       "      <td>429</td>\n",
       "      <td>3586</td>\n",
       "      <td>0.119632</td>\n",
       "      <td>429</td>\n",
       "      <td>3157</td>\n",
       "    </tr>\n",
       "  </tbody>\n",
       "</table>\n",
       "</div>"
      ],
      "text/plain": [
       "       GEOID10                tract  \\\n",
       "0  06065042012  Census Tract 420.12   \n",
       "1  06065041911  Census Tract 419.11   \n",
       "2  06065041910  Census Tract 419.10   \n",
       "3  06065040816  Census Tract 408.16   \n",
       "4  06065040815  Census Tract 408.15   \n",
       "\n",
       "                                            geometry  pop10  nhblk10     ti  \\\n",
       "0  POLYGON ((-117.319414 33.902109, -117.322528 3...   6242      677   6242   \n",
       "1  POLYGON ((-117.504056 33.800257, -117.502758 3...  10258      844  10258   \n",
       "2  POLYGON ((-117.472451 33.762031, -117.475661 3...   6342      405   6342   \n",
       "3  POLYGON ((-117.5285 33.89736, -117.529425 33.8...   2594      346   2594   \n",
       "4  POLYGON ((-117.501299 33.89424899999999, -117....   3586      429   3586   \n",
       "\n",
       "         pi   xi    yi  \n",
       "0  0.108459  677  5565  \n",
       "1  0.082277  844  9414  \n",
       "2  0.063860  405  5937  \n",
       "3  0.133385  346  2248  \n",
       "4  0.119632  429  3157  "
      ]
     },
     "execution_count": 17,
     "metadata": {},
     "output_type": "execute_result"
    }
   ],
   "source": [
    "df_mp.head()"
   ]
  },
  {
   "cell_type": "markdown",
   "metadata": {},
   "source": [
    "In addition, we need to calculate the pairwise distance dij in order to calculate cij = exp(-dij) which is a decreasing function of the distance. For the distance diagonal we take dii = (0.6 ai) ^ 0.5"
   ]
  },
  {
   "cell_type": "code",
   "execution_count": 18,
   "metadata": {},
   "outputs": [
    {
     "name": "stderr",
     "output_type": "stream",
     "text": [
      "C:\\Users\\renan\\AppData\\Local\\Continuum\\anaconda3\\lib\\site-packages\\ipykernel_launcher.py:1: SettingWithCopyWarning: \n",
      "A value is trying to be set on a copy of a slice from a DataFrame.\n",
      "Try using .loc[row_indexer,col_indexer] = value instead\n",
      "\n",
      "See the caveats in the documentation: http://pandas.pydata.org/pandas-docs/stable/indexing.html#indexing-view-versus-copy\n",
      "  \"\"\"Entry point for launching an IPython kernel.\n",
      "C:\\Users\\renan\\AppData\\Local\\Continuum\\anaconda3\\lib\\site-packages\\ipykernel_launcher.py:2: SettingWithCopyWarning: \n",
      "A value is trying to be set on a copy of a slice from a DataFrame.\n",
      "Try using .loc[row_indexer,col_indexer] = value instead\n",
      "\n",
      "See the caveats in the documentation: http://pandas.pydata.org/pandas-docs/stable/indexing.html#indexing-view-versus-copy\n",
      "  \n"
     ]
    },
    {
     "data": {
      "text/plain": [
       "array([[0.987542  , 0.78443107, 0.80834959, ..., 0.63855674, 0.69032011,\n",
       "        0.69299803],\n",
       "       [0.78443107, 0.9379624 , 0.9574637 , ..., 0.55125288, 0.60088803,\n",
       "        0.60881703],\n",
       "       [0.80834959, 0.9574637 , 0.97471765, ..., 0.5523936 , 0.60186742,\n",
       "        0.60888152],\n",
       "       ...,\n",
       "       [0.63855674, 0.55125288, 0.5523936 , ..., 0.99126376, 0.91737242,\n",
       "        0.90354521],\n",
       "       [0.69032011, 0.60088803, 0.60186742, ..., 0.91737242, 0.99001633,\n",
       "        0.97872376],\n",
       "       [0.69299803, 0.60881703, 0.60888152, ..., 0.90354521, 0.97872376,\n",
       "        0.98945207]])"
      ]
     },
     "execution_count": 18,
     "metadata": {},
     "output_type": "execute_result"
    }
   ],
   "source": [
    "df_mp['c_lons'] = df_mp.centroid.map(lambda p: p.x)\n",
    "df_mp['c_lats'] = df_mp.centroid.map(lambda p: p.y)\n",
    "dist = euclidean_distances(df_mp[['c_lons','c_lats']])\n",
    "np.fill_diagonal(dist, val = (0.6*df_mp.area)**(1/2))\n",
    "c = np.exp(-dist)\n",
    "c"
   ]
  },
  {
   "cell_type": "code",
   "execution_count": 19,
   "metadata": {},
   "outputs": [
    {
     "data": {
      "text/plain": [
       "0.12418089857347714"
      ]
     },
     "execution_count": 19,
     "metadata": {},
     "output_type": "execute_result"
    }
   ],
   "source": [
    "Pxx = ((np.array(df_mp.xi) * c).T * np.array(df_mp.xi)).sum() / X**2\n",
    "Pyy = ((np.array(df_mp.yi) * c).T * np.array(df_mp.yi)).sum() / Y**2\n",
    "RCL = Pxx / Pyy - 1\n",
    "RCL"
   ]
  },
  {
   "cell_type": "markdown",
   "metadata": {},
   "source": [
    "# Fourth measure of segregation: Concentration"
   ]
  },
  {
   "cell_type": "markdown",
   "metadata": {},
   "source": [
    "This measure estimate the amount of phsical space that the minority people occupies in relation to the other group."
   ]
  },
  {
   "cell_type": "code",
   "execution_count": 20,
   "metadata": {},
   "outputs": [],
   "source": [
    "A = df_mp.area.sum()\n",
    "DEL = 1/2 * abs(df_mp.xi / X - df_mp.area / A).sum()"
   ]
  },
  {
   "cell_type": "code",
   "execution_count": 21,
   "metadata": {},
   "outputs": [
    {
     "data": {
      "text/plain": [
       "0.8367330649317353"
      ]
     },
     "execution_count": 21,
     "metadata": {},
     "output_type": "execute_result"
    }
   ],
   "source": [
    "DEL"
   ]
  },
  {
   "cell_type": "markdown",
   "metadata": {},
   "source": [
    "# Fifth measure of segregation: Centralization"
   ]
  },
  {
   "cell_type": "markdown",
   "metadata": {},
   "source": [
    "This measure estimate how far from the central business district the minority people is."
   ]
  },
  {
   "cell_type": "markdown",
   "metadata": {},
   "source": [
    "First we need to calculate the distance of each tract from what is considered the central business center. However, this center is not well-defined in first hand. In this case, we make the hyhotesis that the center latitudes and longitudes is an approximation of this considered *center*."
   ]
  },
  {
   "cell_type": "code",
   "execution_count": 22,
   "metadata": {},
   "outputs": [
    {
     "name": "stderr",
     "output_type": "stream",
     "text": [
      "C:\\Users\\renan\\AppData\\Local\\Continuum\\anaconda3\\lib\\site-packages\\ipykernel_launcher.py:1: SettingWithCopyWarning: \n",
      "A value is trying to be set on a copy of a slice from a DataFrame.\n",
      "Try using .loc[row_indexer,col_indexer] = value instead\n",
      "\n",
      "See the caveats in the documentation: http://pandas.pydata.org/pandas-docs/stable/indexing.html#indexing-view-versus-copy\n",
      "  \"\"\"Entry point for launching an IPython kernel.\n",
      "C:\\Users\\renan\\AppData\\Local\\Continuum\\anaconda3\\lib\\site-packages\\ipykernel_launcher.py:2: SettingWithCopyWarning: \n",
      "A value is trying to be set on a copy of a slice from a DataFrame.\n",
      "Try using .loc[row_indexer,col_indexer] = value instead\n",
      "\n",
      "See the caveats in the documentation: http://pandas.pydata.org/pandas-docs/stable/indexing.html#indexing-view-versus-copy\n",
      "  \n",
      "C:\\Users\\renan\\AppData\\Local\\Continuum\\anaconda3\\lib\\site-packages\\ipykernel_launcher.py:3: SettingWithCopyWarning: \n",
      "A value is trying to be set on a copy of a slice from a DataFrame.\n",
      "Try using .loc[row_indexer,col_indexer] = value instead\n",
      "\n",
      "See the caveats in the documentation: http://pandas.pydata.org/pandas-docs/stable/indexing.html#indexing-view-versus-copy\n",
      "  This is separate from the ipykernel package so we can avoid doing imports until\n"
     ]
    }
   ],
   "source": [
    "df_mp['center_lon']  = df_mp.c_lons.mean()\n",
    "df_mp['center_lat']  = df_mp.c_lats.mean()\n",
    "df_mp['center_dist'] = np.sqrt((df_mp.c_lons - df_mp.center_lon)**2 + (df_mp.c_lats - df_mp.center_lat)**2)\n",
    "df_mp_sort_cent = df_mp.sort_values('center_dist')"
   ]
  },
  {
   "cell_type": "markdown",
   "metadata": {},
   "source": [
    "Calculating the cumulative proportion of the variables ordered by the distance of the center. These measures are used to calculate either Absolute Centralization Index (ACE) or Relative Centralizaiton Index (RCE)."
   ]
  },
  {
   "cell_type": "code",
   "execution_count": 23,
   "metadata": {},
   "outputs": [],
   "source": [
    "df_mp_sort_cent['Xi'] = np.cumsum(df_mp_sort_cent.xi) / X\n",
    "df_mp_sort_cent['Yi'] = np.cumsum(df_mp_sort_cent.yi) / Y\n",
    "df_mp_sort_cent['Ai'] = np.cumsum(df_mp_sort_cent.area) / A"
   ]
  },
  {
   "cell_type": "markdown",
   "metadata": {},
   "source": [
    "These new variables reach the value of one at the end of the dataset."
   ]
  },
  {
   "cell_type": "code",
   "execution_count": 24,
   "metadata": {},
   "outputs": [
    {
     "data": {
      "text/html": [
       "<div>\n",
       "<style scoped>\n",
       "    .dataframe tbody tr th:only-of-type {\n",
       "        vertical-align: middle;\n",
       "    }\n",
       "\n",
       "    .dataframe tbody tr th {\n",
       "        vertical-align: top;\n",
       "    }\n",
       "\n",
       "    .dataframe thead th {\n",
       "        text-align: right;\n",
       "    }\n",
       "</style>\n",
       "<table border=\"1\" class=\"dataframe\">\n",
       "  <thead>\n",
       "    <tr style=\"text-align: right;\">\n",
       "      <th></th>\n",
       "      <th>GEOID10</th>\n",
       "      <th>tract</th>\n",
       "      <th>geometry</th>\n",
       "      <th>pop10</th>\n",
       "      <th>nhblk10</th>\n",
       "      <th>ti</th>\n",
       "      <th>pi</th>\n",
       "      <th>xi</th>\n",
       "      <th>yi</th>\n",
       "      <th>c_lons</th>\n",
       "      <th>c_lats</th>\n",
       "      <th>center_lon</th>\n",
       "      <th>center_lat</th>\n",
       "      <th>center_dist</th>\n",
       "      <th>Xi</th>\n",
       "      <th>Yi</th>\n",
       "      <th>Ai</th>\n",
       "    </tr>\n",
       "  </thead>\n",
       "  <tbody>\n",
       "    <tr>\n",
       "      <th>420</th>\n",
       "      <td>06065046103</td>\n",
       "      <td>Census Tract 461.03</td>\n",
       "      <td>POLYGON ((-114.605968 33.632046, -114.599818 3...</td>\n",
       "      <td>3030</td>\n",
       "      <td>104</td>\n",
       "      <td>3030</td>\n",
       "      <td>0.034323</td>\n",
       "      <td>104</td>\n",
       "      <td>2926</td>\n",
       "      <td>-114.597233</td>\n",
       "      <td>33.624902</td>\n",
       "      <td>-117.015209</td>\n",
       "      <td>33.80972</td>\n",
       "      <td>2.425029</td>\n",
       "      <td>0.994665</td>\n",
       "      <td>0.996314</td>\n",
       "      <td>0.987896</td>\n",
       "    </tr>\n",
       "    <tr>\n",
       "      <th>418</th>\n",
       "      <td>06065046200</td>\n",
       "      <td>Census Tract 462</td>\n",
       "      <td>POLYGON ((-114.570768 33.6108, -114.570684 33....</td>\n",
       "      <td>3341</td>\n",
       "      <td>516</td>\n",
       "      <td>3341</td>\n",
       "      <td>0.154445</td>\n",
       "      <td>516</td>\n",
       "      <td>2825</td>\n",
       "      <td>-114.596687</td>\n",
       "      <td>33.599470</td>\n",
       "      <td>-117.015209</td>\n",
       "      <td>33.80972</td>\n",
       "      <td>2.427644</td>\n",
       "      <td>0.998141</td>\n",
       "      <td>0.997698</td>\n",
       "      <td>0.988516</td>\n",
       "    </tr>\n",
       "    <tr>\n",
       "      <th>421</th>\n",
       "      <td>06065046101</td>\n",
       "      <td>Census Tract 461.01</td>\n",
       "      <td>POLYGON ((-114.596796 33.610354, -114.596858 3...</td>\n",
       "      <td>3060</td>\n",
       "      <td>192</td>\n",
       "      <td>3060</td>\n",
       "      <td>0.062745</td>\n",
       "      <td>192</td>\n",
       "      <td>2868</td>\n",
       "      <td>-114.583893</td>\n",
       "      <td>33.614224</td>\n",
       "      <td>-117.015209</td>\n",
       "      <td>33.80972</td>\n",
       "      <td>2.439163</td>\n",
       "      <td>0.999434</td>\n",
       "      <td>0.999103</td>\n",
       "      <td>0.988619</td>\n",
       "    </tr>\n",
       "    <tr>\n",
       "      <th>173</th>\n",
       "      <td>06065047000</td>\n",
       "      <td>Census Tract 470</td>\n",
       "      <td>POLYGON ((-114.511972 33.735019, -114.512348 3...</td>\n",
       "      <td>1749</td>\n",
       "      <td>81</td>\n",
       "      <td>1749</td>\n",
       "      <td>0.046312</td>\n",
       "      <td>81</td>\n",
       "      <td>1668</td>\n",
       "      <td>-114.561894</td>\n",
       "      <td>33.620277</td>\n",
       "      <td>-117.015209</td>\n",
       "      <td>33.80972</td>\n",
       "      <td>2.460619</td>\n",
       "      <td>0.999980</td>\n",
       "      <td>0.999920</td>\n",
       "      <td>0.995967</td>\n",
       "    </tr>\n",
       "    <tr>\n",
       "      <th>172</th>\n",
       "      <td>06065940100</td>\n",
       "      <td>Census Tract 9401</td>\n",
       "      <td>POLYGON ((-114.504839 33.760205, -114.516989 3...</td>\n",
       "      <td>166</td>\n",
       "      <td>3</td>\n",
       "      <td>166</td>\n",
       "      <td>0.018072</td>\n",
       "      <td>3</td>\n",
       "      <td>163</td>\n",
       "      <td>-114.491170</td>\n",
       "      <td>33.965624</td>\n",
       "      <td>-117.015209</td>\n",
       "      <td>33.80972</td>\n",
       "      <td>2.528849</td>\n",
       "      <td>1.000000</td>\n",
       "      <td>1.000000</td>\n",
       "      <td>1.000000</td>\n",
       "    </tr>\n",
       "  </tbody>\n",
       "</table>\n",
       "</div>"
      ],
      "text/plain": [
       "         GEOID10                tract  \\\n",
       "420  06065046103  Census Tract 461.03   \n",
       "418  06065046200     Census Tract 462   \n",
       "421  06065046101  Census Tract 461.01   \n",
       "173  06065047000     Census Tract 470   \n",
       "172  06065940100    Census Tract 9401   \n",
       "\n",
       "                                              geometry  pop10  nhblk10    ti  \\\n",
       "420  POLYGON ((-114.605968 33.632046, -114.599818 3...   3030      104  3030   \n",
       "418  POLYGON ((-114.570768 33.6108, -114.570684 33....   3341      516  3341   \n",
       "421  POLYGON ((-114.596796 33.610354, -114.596858 3...   3060      192  3060   \n",
       "173  POLYGON ((-114.511972 33.735019, -114.512348 3...   1749       81  1749   \n",
       "172  POLYGON ((-114.504839 33.760205, -114.516989 3...    166        3   166   \n",
       "\n",
       "           pi   xi    yi      c_lons     c_lats  center_lon  center_lat  \\\n",
       "420  0.034323  104  2926 -114.597233  33.624902 -117.015209    33.80972   \n",
       "418  0.154445  516  2825 -114.596687  33.599470 -117.015209    33.80972   \n",
       "421  0.062745  192  2868 -114.583893  33.614224 -117.015209    33.80972   \n",
       "173  0.046312   81  1668 -114.561894  33.620277 -117.015209    33.80972   \n",
       "172  0.018072    3   163 -114.491170  33.965624 -117.015209    33.80972   \n",
       "\n",
       "     center_dist        Xi        Yi        Ai  \n",
       "420     2.425029  0.994665  0.996314  0.987896  \n",
       "418     2.427644  0.998141  0.997698  0.988516  \n",
       "421     2.439163  0.999434  0.999103  0.988619  \n",
       "173     2.460619  0.999980  0.999920  0.995967  \n",
       "172     2.528849  1.000000  1.000000  1.000000  "
      ]
     },
     "execution_count": 24,
     "metadata": {},
     "output_type": "execute_result"
    }
   ],
   "source": [
    "df_mp_sort_cent.tail()"
   ]
  },
  {
   "cell_type": "code",
   "execution_count": 25,
   "metadata": {},
   "outputs": [
    {
     "data": {
      "text/plain": [
       "0.6416113799795511"
      ]
     },
     "execution_count": 25,
     "metadata": {},
     "output_type": "execute_result"
    }
   ],
   "source": [
    "ACE = (shift(df_mp_sort_cent.Xi, 1, cval=np.NaN) * df_mp_sort_cent.Ai).sum() - \\\n",
    "      (df_mp_sort_cent.Xi * shift(df_mp_sort_cent.Ai, 1, cval=np.NaN)).sum()\n",
    "ACE"
   ]
  },
  {
   "cell_type": "markdown",
   "metadata": {},
   "source": [
    "# Constructing the overall segregation measure for the County: aggregating the measures"
   ]
  },
  {
   "cell_type": "code",
   "execution_count": 26,
   "metadata": {},
   "outputs": [
    {
     "data": {
      "text/plain": [
       "0.4062793992440884"
      ]
     },
     "execution_count": 26,
     "metadata": {},
     "output_type": "execute_result"
    }
   ],
   "source": [
    "SM = np.mean([D, xPx, RCL, DEL, ACE])\n",
    "SM"
   ]
  },
  {
   "cell_type": "markdown",
   "metadata": {},
   "source": [
    "# Function that calculates the segregation measure for a specific group"
   ]
  },
  {
   "cell_type": "code",
   "execution_count": 27,
   "metadata": {},
   "outputs": [],
   "source": [
    "def calculate_segregation(data, group_pop_var, total_pop_var):\n",
    "    '''\n",
    "    data: a geopandas DataFrame that contains a geometry column\n",
    "    group_pop_var: the name of variable that contains the population size of the group of interest\n",
    "    total_pop_var: the name of variable that contains the total population of the unit\n",
    "    '''\n",
    "    \n",
    "    # Uneveness\n",
    "    data = data.rename(columns={group_pop_var: 'group_pop_var', total_pop_var: 'total_pop_var'})\n",
    "    T = data.total_pop_var.sum()\n",
    "    P = data.group_pop_var.sum() / T\n",
    "    data['ti'] = data.total_pop_var\n",
    "    data['pi'] = data.group_pop_var / data.total_pop_var\n",
    "    D = (((data.total_pop_var * abs(data.pi - P)))/ (2 * T * P * (1 - P))).sum()\n",
    "    \n",
    "    # Isolation\n",
    "    data['xi'] = data.group_pop_var\n",
    "    X = data['xi'].sum()\n",
    "    xPx = ((data.xi / X) * (data.xi / data.ti)).sum()\n",
    "    \n",
    "    # Clustering\n",
    "    data['yi'] = data.total_pop_var - data.group_pop_var\n",
    "    Y = data.yi.sum()\n",
    "    data['c_lons'] = data.centroid.map(lambda p: p.x)\n",
    "    data['c_lats'] = data.centroid.map(lambda p: p.y)\n",
    "    dist = euclidean_distances(data[['c_lons','c_lats']])\n",
    "    np.fill_diagonal(dist, val = (0.6*data.area)**(1/2))\n",
    "    c = np.exp(-dist)\n",
    "    Pxx = ((np.array(data.xi) * c).T * np.array(data.xi)).sum() / X**2\n",
    "    Pyy = ((np.array(data.yi) * c).T * np.array(data.yi)).sum() / Y**2\n",
    "    RCL = Pxx / Pyy - 1\n",
    "\n",
    "    # Concentration\n",
    "    A = data.area.sum()\n",
    "    DEL = 1/2 * abs(data.xi / X - data.area / A).sum()\n",
    "    \n",
    "    # Centralization\n",
    "    data['center_lon']  = data.c_lons.mean()\n",
    "    data['center_lat']  = data.c_lats.mean()\n",
    "    data['center_dist'] = np.sqrt((data.c_lons - data.center_lon)**2 + (data.c_lats - data.center_lat)**2)\n",
    "    data_sort_cent = data.sort_values('center_dist')\n",
    "    \n",
    "    data_sort_cent['Xi'] = np.cumsum(data_sort_cent.xi) / X\n",
    "    data_sort_cent['Yi'] = np.cumsum(data_sort_cent.yi) / Y\n",
    "    data_sort_cent['Ai'] = np.cumsum(data_sort_cent.area) / A\n",
    "    \n",
    "    ACE = (shift(data_sort_cent.Xi, 1, cval=np.NaN) * data_sort_cent.Ai).sum() - \\\n",
    "          (data_sort_cent.Xi * shift(data_sort_cent.Ai, 1, cval=np.NaN)).sum()\n",
    "    \n",
    "    # Aggregating\n",
    "    SM = np.mean([D, xPx, RCL, DEL, ACE])\n",
    "    \n",
    "    return SM"
   ]
  },
  {
   "cell_type": "markdown",
   "metadata": {},
   "source": [
    "Testing the function for the hispanic group."
   ]
  },
  {
   "cell_type": "code",
   "execution_count": 28,
   "metadata": {},
   "outputs": [
    {
     "data": {
      "text/plain": [
       "0.4472686189233796"
      ]
     },
     "execution_count": 28,
     "metadata": {},
     "output_type": "execute_result"
    }
   ],
   "source": [
    "df_hisp = census_2010.loc[census_2010.county == \"Riverside County\"][['trtid10','tract','pop10', 'hisp10']]\n",
    "df_map_hisp = map_gpd.merge(df_hisp, left_on = 'INTGEOID10', right_on = 'trtid10')\n",
    "calculate_segregation(df_map_hisp, 'hisp10', 'pop10')"
   ]
  },
  {
   "cell_type": "code",
   "execution_count": null,
   "metadata": {},
   "outputs": [],
   "source": []
  }
 ],
 "metadata": {
  "kernelspec": {
   "display_name": "Python 3",
   "language": "python",
   "name": "python3"
  },
  "language_info": {
   "codemirror_mode": {
    "name": "ipython",
    "version": 3
   },
   "file_extension": ".py",
   "mimetype": "text/x-python",
   "name": "python",
   "nbconvert_exporter": "python",
   "pygments_lexer": "ipython3",
   "version": "3.6.5"
  }
 },
 "nbformat": 4,
 "nbformat_minor": 2
}
