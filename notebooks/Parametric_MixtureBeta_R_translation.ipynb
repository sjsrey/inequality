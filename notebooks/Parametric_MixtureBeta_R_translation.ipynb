{
 "cells": [
  {
   "cell_type": "code",
   "execution_count": 883,
   "metadata": {},
   "outputs": [
    {
     "data": {
      "text/html": [
       "<div>\n",
       "<style scoped>\n",
       "    .dataframe tbody tr th:only-of-type {\n",
       "        vertical-align: middle;\n",
       "    }\n",
       "\n",
       "    .dataframe tbody tr th {\n",
       "        vertical-align: top;\n",
       "    }\n",
       "\n",
       "    .dataframe thead th {\n",
       "        text-align: right;\n",
       "    }\n",
       "</style>\n",
       "<table border=\"1\" class=\"dataframe\">\n",
       "  <thead>\n",
       "    <tr style=\"text-align: right;\">\n",
       "      <th></th>\n",
       "      <th>trtid10</th>\n",
       "      <th>state</th>\n",
       "      <th>county</th>\n",
       "      <th>tract</th>\n",
       "      <th>pop10</th>\n",
       "      <th>nhwht10</th>\n",
       "      <th>nhblk10</th>\n",
       "      <th>ntv10</th>\n",
       "      <th>asian10</th>\n",
       "      <th>hisp10</th>\n",
       "      <th>...</th>\n",
       "      <th>a15hsp10</th>\n",
       "      <th>a60hsp10</th>\n",
       "      <th>ageasn10</th>\n",
       "      <th>a15asn10</th>\n",
       "      <th>a60asn10</th>\n",
       "      <th>agentv10</th>\n",
       "      <th>a15ntv10</th>\n",
       "      <th>a60ntv10</th>\n",
       "      <th>globd10</th>\n",
       "      <th>globg10</th>\n",
       "    </tr>\n",
       "  </thead>\n",
       "  <tbody>\n",
       "    <tr>\n",
       "      <th>0</th>\n",
       "      <td>1001020100</td>\n",
       "      <td>AL</td>\n",
       "      <td>Autauga County</td>\n",
       "      <td>Census Tract 201</td>\n",
       "      <td>1912</td>\n",
       "      <td>1601</td>\n",
       "      <td>228</td>\n",
       "      <td>21</td>\n",
       "      <td>16</td>\n",
       "      <td>44</td>\n",
       "      <td>...</td>\n",
       "      <td>14</td>\n",
       "      <td>2</td>\n",
       "      <td>14</td>\n",
       "      <td>4</td>\n",
       "      <td>1</td>\n",
       "      <td>13</td>\n",
       "      <td>1</td>\n",
       "      <td>3</td>\n",
       "      <td>bw</td>\n",
       "      <td>White Black</td>\n",
       "    </tr>\n",
       "    <tr>\n",
       "      <th>1</th>\n",
       "      <td>6083002402</td>\n",
       "      <td>CA</td>\n",
       "      <td>Santa Barbara County</td>\n",
       "      <td>Census Tract 24.02</td>\n",
       "      <td>11406</td>\n",
       "      <td>1980</td>\n",
       "      <td>207</td>\n",
       "      <td>54</td>\n",
       "      <td>703</td>\n",
       "      <td>8439</td>\n",
       "      <td>...</td>\n",
       "      <td>2972</td>\n",
       "      <td>414</td>\n",
       "      <td>624</td>\n",
       "      <td>119</td>\n",
       "      <td>75</td>\n",
       "      <td>26</td>\n",
       "      <td>4</td>\n",
       "      <td>3</td>\n",
       "      <td>wha</td>\n",
       "      <td>Dual immig</td>\n",
       "    </tr>\n",
       "    <tr>\n",
       "      <th>2</th>\n",
       "      <td>1001020200</td>\n",
       "      <td>AL</td>\n",
       "      <td>Autauga County</td>\n",
       "      <td>Census Tract 202</td>\n",
       "      <td>2170</td>\n",
       "      <td>844</td>\n",
       "      <td>1226</td>\n",
       "      <td>9</td>\n",
       "      <td>13</td>\n",
       "      <td>75</td>\n",
       "      <td>...</td>\n",
       "      <td>14</td>\n",
       "      <td>1</td>\n",
       "      <td>5</td>\n",
       "      <td>0</td>\n",
       "      <td>0</td>\n",
       "      <td>5</td>\n",
       "      <td>3</td>\n",
       "      <td>1</td>\n",
       "      <td>bw</td>\n",
       "      <td>White Black</td>\n",
       "    </tr>\n",
       "    <tr>\n",
       "      <th>3</th>\n",
       "      <td>6083002102</td>\n",
       "      <td>CA</td>\n",
       "      <td>Santa Barbara County</td>\n",
       "      <td>Census Tract 21.02</td>\n",
       "      <td>2084</td>\n",
       "      <td>853</td>\n",
       "      <td>24</td>\n",
       "      <td>24</td>\n",
       "      <td>88</td>\n",
       "      <td>1088</td>\n",
       "      <td>...</td>\n",
       "      <td>342</td>\n",
       "      <td>84</td>\n",
       "      <td>61</td>\n",
       "      <td>4</td>\n",
       "      <td>16</td>\n",
       "      <td>11</td>\n",
       "      <td>0</td>\n",
       "      <td>4</td>\n",
       "      <td>wha</td>\n",
       "      <td>Dual immig</td>\n",
       "    </tr>\n",
       "    <tr>\n",
       "      <th>4</th>\n",
       "      <td>1001020300</td>\n",
       "      <td>AL</td>\n",
       "      <td>Autauga County</td>\n",
       "      <td>Census Tract 203</td>\n",
       "      <td>3373</td>\n",
       "      <td>2538</td>\n",
       "      <td>668</td>\n",
       "      <td>30</td>\n",
       "      <td>42</td>\n",
       "      <td>87</td>\n",
       "      <td>...</td>\n",
       "      <td>34</td>\n",
       "      <td>9</td>\n",
       "      <td>22</td>\n",
       "      <td>2</td>\n",
       "      <td>7</td>\n",
       "      <td>9</td>\n",
       "      <td>1</td>\n",
       "      <td>3</td>\n",
       "      <td>bw</td>\n",
       "      <td>White Black</td>\n",
       "    </tr>\n",
       "  </tbody>\n",
       "</table>\n",
       "<p>5 rows × 47 columns</p>\n",
       "</div>"
      ],
      "text/plain": [
       "      trtid10 state                county               tract  pop10  nhwht10  \\\n",
       "0  1001020100    AL        Autauga County    Census Tract 201   1912     1601   \n",
       "1  6083002402    CA  Santa Barbara County  Census Tract 24.02  11406     1980   \n",
       "2  1001020200    AL        Autauga County    Census Tract 202   2170      844   \n",
       "3  6083002102    CA  Santa Barbara County  Census Tract 21.02   2084      853   \n",
       "4  1001020300    AL        Autauga County    Census Tract 203   3373     2538   \n",
       "\n",
       "   nhblk10  ntv10  asian10  hisp10     ...       a15hsp10  a60hsp10  ageasn10  \\\n",
       "0      228     21       16      44     ...             14         2        14   \n",
       "1      207     54      703    8439     ...           2972       414       624   \n",
       "2     1226      9       13      75     ...             14         1         5   \n",
       "3       24     24       88    1088     ...            342        84        61   \n",
       "4      668     30       42      87     ...             34         9        22   \n",
       "\n",
       "   a15asn10  a60asn10  agentv10  a15ntv10  a60ntv10  globd10      globg10  \n",
       "0         4         1        13         1         3       bw  White Black  \n",
       "1       119        75        26         4         3      wha   Dual immig  \n",
       "2         0         0         5         3         1       bw  White Black  \n",
       "3         4        16        11         0         4      wha   Dual immig  \n",
       "4         2         7         9         1         3       bw  White Black  \n",
       "\n",
       "[5 rows x 47 columns]"
      ]
     },
     "execution_count": 883,
     "metadata": {},
     "output_type": "execute_result"
    }
   ],
   "source": [
    "# !IPython.load_extensions('calico-document-tools') To construct notebook Table of Contents\n",
    "import numpy as np\n",
    "import pandas as pd\n",
    "import pysal as ps\n",
    "import scipy\n",
    "from scipy.integrate import quad\n",
    "from scipy.stats import norm\n",
    "from scipy.optimize import minimize\n",
    "\n",
    "from scipy.stats import beta # Beta probability function\n",
    "from scipy.special import digamma\n",
    "from scipy.special import beta as f_beta # Beta raw function\n",
    "\n",
    "import os\n",
    "\n",
    "os.chdir('C:/Users/renan/Desktop/inequality-segregation-supplementary-files/')\n",
    "census_2010 = pd.read_csv('data/std_2010_fullcount.csv', encoding = \"ISO-8859-1\", sep = \",\")\n",
    "census_2010.head()"
   ]
  },
  {
   "cell_type": "code",
   "execution_count": 788,
   "metadata": {},
   "outputs": [],
   "source": [
    "def duncan_betamix(v):\n",
    "    v = np.array(v)              # Has to be np.array for future calculations\n",
    "    Cmix = int((1 + len(v)) / 3) # Has to be integer for future slices\n",
    "    a = v[0:Cmix]      \n",
    "    b = v[(Cmix):(2 * Cmix)]\n",
    "\n",
    "    if (Cmix == 1):\n",
    "        lam = 1 \n",
    "    else: \n",
    "        lam = np.append(v[(2 * Cmix):(3 * Cmix - 1)], 1 - sum(v[(2 * Cmix):(3 * Cmix - 1)]))\n",
    "        \n",
    "    mu = sum(lam * a / (a + b))\n",
    "\n",
    "    value = sum(lam * (b * beta.cdf(mu, a, b + 1)/(1 - mu) - a * beta.cdf(mu, a + 1, b) / mu) / (a + b))\n",
    "    return value"
   ]
  },
  {
   "cell_type": "code",
   "execution_count": 789,
   "metadata": {},
   "outputs": [
    {
     "data": {
      "text/plain": [
       "0.6657228773303705"
      ]
     },
     "execution_count": 789,
     "metadata": {},
     "output_type": "execute_result"
    }
   ],
   "source": [
    "duncan_betamix([0.3, 0.7])"
   ]
  },
  {
   "cell_type": "code",
   "execution_count": 790,
   "metadata": {},
   "outputs": [
    {
     "data": {
      "text/plain": [
       "0.8075080072970819"
      ]
     },
     "execution_count": 790,
     "metadata": {},
     "output_type": "execute_result"
    }
   ],
   "source": [
    "duncan_betamix([0.3, 0.7, 0.04, 0.65, 0.7])"
   ]
  },
  {
   "cell_type": "code",
   "execution_count": 791,
   "metadata": {},
   "outputs": [
    {
     "data": {
      "text/plain": [
       "0.7403564967329468"
      ]
     },
     "execution_count": 791,
     "metadata": {},
     "output_type": "execute_result"
    }
   ],
   "source": [
    "duncan_betamix([0.3, 0.7, 0.04, 0.65, 0.7, 0.9, 0.12, 0.43])"
   ]
  },
  {
   "cell_type": "code",
   "execution_count": 792,
   "metadata": {},
   "outputs": [],
   "source": [
    "def theil_betamix_2017(v):\n",
    "    v = np.array(v)              # Has to be np.array for future calculations\n",
    "    Cmix = int((1 + len(v)) / 3) # Has to be integer for future slices\n",
    "    a = v[0:Cmix]      \n",
    "    b = v[(Cmix):(2 * Cmix)]\n",
    "    \n",
    "    if (Cmix == 1):\n",
    "        lam = 1 \n",
    "    else:\n",
    "        lam = np.append(v[(2 * Cmix):(3 * Cmix - 1)], 1 - sum(v[(2 * Cmix):(3 * Cmix - 1)]))\n",
    "        \n",
    "    mu = sum(lam * a / (a + b))\n",
    "\n",
    "    value = 1 - sum(lam * (a / (a + b) * digamma(a + 1) - a / (a + b) * digamma(a + b + 1))) / (mu * np.log(mu))\n",
    "    return value"
   ]
  },
  {
   "cell_type": "code",
   "execution_count": 793,
   "metadata": {},
   "outputs": [
    {
     "data": {
      "text/plain": [
       "0.5083151198778997"
      ]
     },
     "execution_count": 793,
     "metadata": {},
     "output_type": "execute_result"
    }
   ],
   "source": [
    "theil_betamix_2017([0.3, 0.7])"
   ]
  },
  {
   "cell_type": "code",
   "execution_count": 794,
   "metadata": {},
   "outputs": [
    {
     "data": {
      "text/plain": [
       "0.5348452644472066"
      ]
     },
     "execution_count": 794,
     "metadata": {},
     "output_type": "execute_result"
    }
   ],
   "source": [
    "theil_betamix_2017([0.3, 0.7, 0.04, 0.65, 0.7])"
   ]
  },
  {
   "cell_type": "code",
   "execution_count": 795,
   "metadata": {},
   "outputs": [
    {
     "data": {
      "text/plain": [
       "0.6219157169201162"
      ]
     },
     "execution_count": 795,
     "metadata": {},
     "output_type": "execute_result"
    }
   ],
   "source": [
    "theil_betamix_2017([0.3, 0.7, 0.04, 0.65, 0.7, 0.9, 0.12, 0.43])"
   ]
  },
  {
   "cell_type": "code",
   "execution_count": 796,
   "metadata": {},
   "outputs": [],
   "source": [
    "def theil_betamix_2012(v):\n",
    "    v = np.array(v)              # Has to be np.array for future calculations\n",
    "    Cmix = int((1 + len(v)) / 3) # Has to be integer for future slices\n",
    "    a = v[0:Cmix]      \n",
    "    b = v[(Cmix):(2 * Cmix)]\n",
    "    \n",
    "    if (Cmix == 1):\n",
    "        lam = 1 \n",
    "    else:\n",
    "        lam = np.append(v[(2 * Cmix):(3 * Cmix - 1)], 1 - sum(v[(2 * Cmix):(3 * Cmix - 1)]))\n",
    "        \n",
    "    mu = sum(lam * a / (a + b))\n",
    "\n",
    "    value = 1 - sum(lam * (a / (a + b) * digamma(a + 1) + b / (a + b) * digamma(b + 1) - digamma(a + b + 1))) / (mu * np.log(mu) + (1 - mu) * np.log(1 - mu))\n",
    "    return value"
   ]
  },
  {
   "cell_type": "code",
   "execution_count": 797,
   "metadata": {},
   "outputs": [
    {
     "data": {
      "text/plain": [
       "0.46377929067849466"
      ]
     },
     "execution_count": 797,
     "metadata": {},
     "output_type": "execute_result"
    }
   ],
   "source": [
    "theil_betamix_2012([0.3, 0.7])"
   ]
  },
  {
   "cell_type": "code",
   "execution_count": 798,
   "metadata": {},
   "outputs": [
    {
     "data": {
      "text/plain": [
       "0.6436871528489695"
      ]
     },
     "execution_count": 798,
     "metadata": {},
     "output_type": "execute_result"
    }
   ],
   "source": [
    "theil_betamix_2012([0.3, 0.7, 0.04, 0.65, 0.7])"
   ]
  },
  {
   "cell_type": "code",
   "execution_count": 799,
   "metadata": {},
   "outputs": [
    {
     "data": {
      "text/plain": [
       "0.5568732745587515"
      ]
     },
     "execution_count": 799,
     "metadata": {},
     "output_type": "execute_result"
    }
   ],
   "source": [
    "theil_betamix_2012([0.3, 0.7, 0.04, 0.65, 0.7, 0.9, 0.12, 0.43])"
   ]
  },
  {
   "cell_type": "code",
   "execution_count": 800,
   "metadata": {},
   "outputs": [],
   "source": [
    "def gini_betamix(v):\n",
    "    v = np.array(v)              # Has to be np.array for future calculations\n",
    "    Cmix = int((1 + len(v)) / 3) # Has to be integer for future slices\n",
    "    a = v[0:Cmix]      \n",
    "    b = v[(Cmix):(2 * Cmix)]\n",
    "    \n",
    "    if (Cmix == 1):\n",
    "        lam = np.array([1]) \n",
    "    else:\n",
    "        lam = np.append(v[(2 * Cmix):(3 * Cmix - 1)], 1 - sum(v[(2 * Cmix):(3 * Cmix - 1)]))\n",
    "        \n",
    "    mu = sum(lam * a / (a + b))\n",
    "    \n",
    "\n",
    "    def ff(x):\n",
    "        res = np.empty(shape = (Cmix, 2))\n",
    "        for ii in range(Cmix):\n",
    "            res[ii,0] = lam[ii] * b[ii] * beta.pdf(x, a[ii], b[ii] + 1) / (a[ii] + b[ii])\n",
    "            res[ii,1] = lam[ii] * a[ii] * beta.cdf(x, a[ii] + 1, b[ii]) / (a[ii] + b[ii])\n",
    "        res = np.sum(res, axis = 0) # apply(res, c(2, 3), sum)\n",
    "        \n",
    "        return (res[0] * res[1])\n",
    "\n",
    "    value = 1-(2/(mu*(1-mu)))*(quad(ff,0,.5,limit=100)[0]+quad(ff,.5,1,limit=100)[0])\n",
    "    return value\n"
   ]
  },
  {
   "cell_type": "code",
   "execution_count": 801,
   "metadata": {},
   "outputs": [
    {
     "data": {
      "text/plain": [
       "0.834506614191632"
      ]
     },
     "execution_count": 801,
     "metadata": {},
     "output_type": "execute_result"
    }
   ],
   "source": [
    "gini_betamix([0.3, 0.7])"
   ]
  },
  {
   "cell_type": "code",
   "execution_count": 802,
   "metadata": {},
   "outputs": [
    {
     "data": {
      "text/plain": [
       "0.9342811402444533"
      ]
     },
     "execution_count": 802,
     "metadata": {},
     "output_type": "execute_result"
    }
   ],
   "source": [
    "gini_betamix([0.3, 0.7, 0.04, 0.65, 0.7])"
   ]
  },
  {
   "cell_type": "code",
   "execution_count": 803,
   "metadata": {},
   "outputs": [
    {
     "data": {
      "text/plain": [
       "0.891209223701447"
      ]
     },
     "execution_count": 803,
     "metadata": {},
     "output_type": "execute_result"
    }
   ],
   "source": [
    "gini_betamix([0.3, 0.7, 0.04, 0.65, 0.7, 0.9, 0.12, 0.43])"
   ]
  },
  {
   "cell_type": "code",
   "execution_count": 804,
   "metadata": {},
   "outputs": [],
   "source": [
    "def fmn(a,b,m,n):\n",
    "    value = f_beta(a + n, b + m - n) / f_beta(a, b)\n",
    "    return value"
   ]
  },
  {
   "cell_type": "code",
   "execution_count": 805,
   "metadata": {},
   "outputs": [
    {
     "data": {
      "text/plain": [
       "0.0019209261240983927"
      ]
     },
     "execution_count": 805,
     "metadata": {},
     "output_type": "execute_result"
    }
   ],
   "source": [
    "fmn(0.3, 0.4, 7, 3)"
   ]
  },
  {
   "cell_type": "code",
   "execution_count": 858,
   "metadata": {},
   "outputs": [],
   "source": [
    "def llik_cnt(a, b, lam, K, X):\n",
    "    # a = vector of size C (number of components of the mixture)\n",
    "    # b = vector of size C (number of components of the mixture)\n",
    "    # lam = vector of size C (number of components of the mixture)\n",
    "    # K = scalar; number of indiv by unit\n",
    "    # X = vector of size K+1; number of units with (j-1) minorities\n",
    "    \n",
    "    L = np.array(np.repeat(lam, K+1)).reshape((len(lam), K+1)) # Repeat each element of the list K+1 times, since Python fills rowwisely\n",
    "    A = np.array(np.repeat(a,   K+1)).reshape((len(a), K+1))\n",
    "    B = np.array(np.repeat(b,   K+1)).reshape((len(b), K+1))\n",
    "    \n",
    "    Kmat = np.array(list(range(K + 1)) * len(lam)).reshape((len(lam), K + 1))\n",
    "\n",
    "    value = -sum(X * np.log(np.sum(np.multiply(L, fmn(A, B, K, Kmat)), axis = 0))) # multiply element wisely\n",
    "    return value"
   ]
  },
  {
   "cell_type": "code",
   "execution_count": 859,
   "metadata": {},
   "outputs": [
    {
     "data": {
      "text/plain": [
       "array([0.45, 0.45, 0.45, 0.45, 0.45, 0.45, 0.45, 0.45, 0.45, 0.45, 0.45,\n",
       "       0.45, 0.55, 0.55, 0.55, 0.55, 0.55, 0.55, 0.55, 0.55, 0.55, 0.55,\n",
       "       0.55, 0.55])"
      ]
     },
     "execution_count": 859,
     "metadata": {},
     "output_type": "execute_result"
    }
   ],
   "source": [
    "np.repeat(lam, len(lam)*(K+1))"
   ]
  },
  {
   "cell_type": "code",
   "execution_count": 863,
   "metadata": {},
   "outputs": [
    {
     "data": {
      "text/plain": [
       "142.61710934389515"
      ]
     },
     "execution_count": 863,
     "metadata": {},
     "output_type": "execute_result"
    }
   ],
   "source": [
    "a = [0.3, 0.6]\n",
    "b = [0.44, 0.9]\n",
    "lam = [0.45, 0.55]\n",
    "K = 5\n",
    "X = [6, 9, 10, 4, 8, 7]\n",
    "llik_cnt(a, b, lam, K, X)"
   ]
  },
  {
   "cell_type": "code",
   "execution_count": 1008,
   "metadata": {},
   "outputs": [
    {
     "data": {
      "text/plain": [
       "172.3409740540395"
      ]
     },
     "execution_count": 1008,
     "metadata": {},
     "output_type": "execute_result"
    }
   ],
   "source": [
    "a = [0.3, 0.6, 0.9, 0.99]\n",
    "b = [0.44, 0.9, 0.98, 0.01]\n",
    "lam = [0.1, 0.1, 0.1, 0.7]\n",
    "K = 5\n",
    "X = [6, 9, 10, 4, 8, 7]\n",
    "llik_cnt(a, b, lam, K, X)"
   ]
  },
  {
   "cell_type": "code",
   "execution_count": 1035,
   "metadata": {},
   "outputs": [],
   "source": [
    "def llik_Kvec(a, b, lam, Xmat, Kvec):\n",
    "    cumsum = 0\n",
    "    \n",
    "    for j in list(range(len(Kvec))):\n",
    "        #print(lam)\n",
    "        #print(j)\n",
    "        print({'a': a,\n",
    "             'b': b,\n",
    "             'lam': lam,\n",
    "             'Kvec[j]': Kvec[j],\n",
    "             'cumsum': cumsum})\n",
    "        cumsum += llik_cnt(a, b, lam, Kvec[j], Xmat[0:(Kvec[j]+1), j])\n",
    "        \n",
    "    \n",
    "    return cumsum\n"
   ]
  },
  {
   "cell_type": "code",
   "execution_count": 960,
   "metadata": {},
   "outputs": [
    {
     "data": {
      "text/plain": [
       "array([[ 1.,  2.],\n",
       "       [ 3.,  4.],\n",
       "       [ 5.,  6.],\n",
       "       [ 7.,  8.],\n",
       "       [ 9., 10.],\n",
       "       [11., 12.],\n",
       "       [13., 14.],\n",
       "       [15., 16.],\n",
       "       [17., 18.],\n",
       "       [19., 20.]])"
      ]
     },
     "execution_count": 960,
     "metadata": {},
     "output_type": "execute_result"
    }
   ],
   "source": [
    "Kvec = [3, 2]\n",
    "\n",
    "values = np.linspace(1, 20, num = 20)\n",
    "Xmat = np.array(values).reshape((int(len(values) / len(Kvec)), len(Kvec)))\n",
    "Xmat"
   ]
  },
  {
   "cell_type": "code",
   "execution_count": 961,
   "metadata": {},
   "outputs": [
    {
     "data": {
      "text/plain": [
       "51.36943404147456"
      ]
     },
     "execution_count": 961,
     "metadata": {},
     "output_type": "execute_result"
    }
   ],
   "source": [
    "llik_Kvec(a,b,lam,Xmat,Kvec)"
   ]
  },
  {
   "cell_type": "code",
   "execution_count": 786,
   "metadata": {},
   "outputs": [],
   "source": [
    "def moments_beta(a, b, lam, K):\n",
    "    C = len(a)\n",
    "    A = np.matmul(np.array([1] * (K + 1)).reshape(K+1,1), np.array(a).reshape(1,len(a)))\n",
    "    B = np.matmul(np.array([1] * (K + 1)).reshape(K+1,1), np.array(b).reshape(1,len(b)))\n",
    "    # np.repeat: repeat each element\n",
    "    # np.tile: repeat entire np.array\n",
    "    mm = f_beta(np.add(A, np.repeat(np.linspace(0, K, K + 1), C).reshape(K+1, C)), B) / f_beta(A, B)\n",
    "    L = np.matmul(np.array([1] * (K + 1)).reshape(K+1,1), np.array(lam).reshape(1, len(lam)))\n",
    "    value = np.sum(np.multiply(mm, L), axis = 1)[1:]\n",
    "    return value"
   ]
  },
  {
   "cell_type": "code",
   "execution_count": 464,
   "metadata": {},
   "outputs": [
    {
     "data": {
      "text/plain": [
       "array([0.40243243, 0.27710009, 0.21900677, 0.18462762, 0.16156419])"
      ]
     },
     "execution_count": 464,
     "metadata": {},
     "output_type": "execute_result"
    }
   ],
   "source": [
    "moments_beta(a, b, lam, K)"
   ]
  },
  {
   "cell_type": "code",
   "execution_count": 490,
   "metadata": {},
   "outputs": [
    {
     "data": {
      "text/plain": [
       "8103.083927575384"
      ]
     },
     "execution_count": 490,
     "metadata": {},
     "output_type": "execute_result"
    }
   ],
   "source": [
    "np.random.normal(size = 5)"
   ]
  },
  {
   "cell_type": "code",
   "execution_count": 524,
   "metadata": {},
   "outputs": [
    {
     "data": {
      "text/plain": [
       "0.8159398746532405"
      ]
     },
     "execution_count": 524,
     "metadata": {},
     "output_type": "execute_result"
    }
   ],
   "source": [
    "norm.cdf(0.9)"
   ]
  },
  {
   "cell_type": "code",
   "execution_count": null,
   "metadata": {},
   "outputs": [],
   "source": [
    "def initial_values(rawmom, Cmix):\n",
    "    if (Cmix==1):\n",
    "        m1  = rawmom[0]\n",
    "        q2  = rawmom[1]/rawmom[0]\n",
    "        res = np.linalg.solve(np.column_stack((np.array([m1 - 1, q2 - 1]),np.array([m1, q2]))),np.array([0,1-q2]))\n",
    "        if (np.sum(res > 0) == 2):\n",
    "            return res\n",
    "        if (np.sum(res > 0) == 0):\n",
    "            return -res\n",
    "        if (np.sum(res > 0) == 1):\n",
    "            return m1/(1 - m1)\n",
    "  \n",
    "  \n",
    "    if (Cmix>=2):\n",
    "        K = 3 * Cmix - 1\n",
    "        empmom = rawmom[0:K]\n",
    "        init = [np.log([1, \n",
    "                        0.2, \n",
    "                        np.exp(np.random.normal(size = Cmix-1) + 0), # Changed the original code here which was: Cmix - 2\n",
    "                        1,\n",
    "                        5,\n",
    "                        np.exp(np.random.normal(size = Cmix-1))]), # Changed the original code here which was: Cmix - 2\n",
    "                [norm.ppf(1/Cmix)] * (Cmix-1)]\n",
    "\n",
    "        #Reparameterized\n",
    "        def fnmin(x):\n",
    "            value = np.sum((moments_beta(np.exp(x[0:Cmix]),\n",
    "                                 np.exp(x[(Cmix):(2*Cmix)]),\n",
    "                                 np.array(norm.cdf(x[(2*Cmix):K]),1-np.sum(norm.cdf(x[(2*Cmix):K]))),\n",
    "                                 K)\n",
    "                        -empmom)**2)\n",
    "            return value\n",
    "\n",
    "        def grmin(x):\n",
    "            a   = np.exp(x[0:Cmix]) #x[1:Cmix]\n",
    "            b   = np.exp(x[(Cmix):(2*Cmix)]) #x[(Cmix+1):(2*Cmix)]\n",
    "            lam = np.array(norm.cdf(x[(2*Cmix):(3*Cmix-1)]),1-sum(norm.cdf(x[(2*Cmix):(3*Cmix-1)])))\n",
    "            #c(x[(2*Cmix+1):(3*Cmix-1)],1-sum(x[(2*Cmix+1):(3*Cmix-1)]))\n",
    "            A = np.tile(a, K).reshape(K, len(a))\n",
    "            B = np.tile(b, K).reshape(K, len(b))\n",
    "            Kmat = np.repeat(range(1, K+1), Cmix).reshape(K, Cmix)\n",
    "            mm = f_beta(A+Kmat,B)/f_beta(A,B)\n",
    "            diga = digamma(A+Kmat)-digamma(A+B+Kmat)+digamma(A+B)-digamma(A)\n",
    "            digb = digamma(B)-digamma(A+B+Kmat)+digamma(A+B)-digamma(B)\n",
    "            L = np.tile(lam, K).reshape((K, len(lam)))\n",
    "\n",
    "            deralpha = A*L*mm*diga #L*mm*diga\n",
    "            derbeta  = B*L*mm*digb #L*mm*digb\n",
    "            derlam   = np.delete(norm.pdf(norm.ppf(L)), mm.shape[1] + 1, axis = 1)*(mm[,-ncol(mm)]-mm[,ncol(mm)]%x%t(rep(1,ncol(mm)-1)))\n",
    "            return( as.numeric(2*(moments_beta(a,b,lam,K)-empmom)%*%cbind(deralpha,derbeta,derlam)) )\n",
    "                             \n",
    "\n",
    "        res=optim(init,fn=fnmin,gr=grmin,method=\"BFGS\",\n",
    "        control=list(maxit=1000,trace=0))\n",
    "\n",
    "        return(c(exp(res$par[1:(2*Cmix)]),norm.cdf(res$par[(2*Cmix+1):(length(res$par))])))"
   ]
  },
  {
   "cell_type": "code",
   "execution_count": null,
   "metadata": {},
   "outputs": [],
   "source": [
    "def synthesis_moments(Xmat,Kvec,mommax=10):\n",
    "    \n",
    "    \n",
    "    \n",
    "  synthesis.moments <- function(Xmat,Kvec,mommax=10){\n",
    "  if (!is.matrix(Xmat)){\n",
    "      sumX = sum(Xmat)\n",
    "      if (Kvec <= 20){\n",
    "          resm=counts.to.moments(Xmat[1:(Kvec+1)],Kvec)\n",
    "      }\n",
    "      else{\n",
    "          resm=empirical.moments(Xmat[1:(Kvec+1)],Kvec)\n",
    "      }\n",
    "  }\n",
    "  else{\n",
    "      sumX = apply(Xmat,2,sum)\n",
    "      Kv1 = intersect(1:20,Kvec); ran1=which(Kvec %in% Kv1)\n",
    "      Kv2 = setdiff(Kvec,Kv1)   ; ran2=which(Kvec %in% Kv2)\n",
    "      if ((length(Kv1)!=0)&(length(Kv2)==0)){\n",
    "          resm=counts.to.moments(Xmat[1:(max(Kv1)+1),ran1],Kv1)\n",
    "      }\n",
    "      if ((length(Kv1)==0)&(length(Kv2)!=0)){\n",
    "          resm=empirical.moments(Xmat[1:(max(Kv2)+1),ran2],Kv2)\n",
    "      }\n",
    "      if ((length(Kv1)!=0)&(length(Kv2)!=0)){\n",
    "          cm=counts.to.moments(Xmat[1:(max(Kv1)+1),ran1],Kv1)\n",
    "          em=empirical.moments(Xmat[1:(max(Kv2)+1),ran2],Kv2)\n",
    "          resm=(cm*sum(sumX[ran1]*Kv1)+em*sum(sumX[ran2]*Kv2))/\n",
    "              sum(sumX*Kvec)\n",
    "      }\n",
    "  }\n",
    "  resm ;\n",
    "}"
   ]
  },
  {
   "cell_type": "markdown",
   "metadata": {},
   "source": [
    "# Main Function"
   ]
  },
  {
   "cell_type": "code",
   "execution_count": 1049,
   "metadata": {},
   "outputs": [],
   "source": [
    "def betamix_estim(Xmat, Kvec, Cmax, initval = None):\n",
    "  \n",
    "    ## Xmat is the count matrix\n",
    "    ## Make it a matrix, even if one column only\n",
    "    if (type(Xmat) is not np.ndarray): \n",
    "        Xmat = np.array(Xmat).reshape((len(Xmat), 1))\n",
    "    \n",
    "\n",
    "    ## In the standard case, length(Kvec) = ncol(Xmat)\n",
    "    ## This script also supports the case in which length(Kvec)<ncol(Xmat),\n",
    "    ##   that is, when you want to restrict the estimation to a subset of the Ks\n",
    "    ## number of rows >= max(Kvec)+2\n",
    "    ## number of cols >= length(Kvec)\n",
    "    ## each column has K+1 meaningful elements, other elements are negative\n",
    "    ## for j=1...K+1, value(j) = nb of obs such that (X_K = j-1)\n",
    "\n",
    "    ## Find K for each column\n",
    "    whichK = np.apply_along_axis(lambda x: np.min(np.where(x < 0)), axis = 0, arr = Xmat) - 2\n",
    "    # Returns a tuple, that's why it is needed to extract the first element\n",
    "    goodcol = np.where(np.isin(whichK, Kvec))[0]\n",
    "    resm = np.zeros(shape = ((np.max(Kvec)+1, len(goodcol))))\n",
    "    \n",
    "    # Needed to change from R code due to zero index based\n",
    "    for jj in range(len(goodcol)):\n",
    "        resm[0:(Xmat[:,goodcol[jj]]>=0).sum(),jj]=Xmat[np.where(Xmat[:,goodcol[jj]] >= 0),goodcol[jj]-1]\n",
    "        resm[resm < 0] = 0\n",
    "    \n",
    "    Xmat = resm\n",
    "    \n",
    "    if (len(Kvec) == 1):\n",
    "        Xmat = np.array(Xmat).reshape((Xmat.shape[0] * Xmat.shape[1], 1))\n",
    "    \n",
    "\n",
    "    ## Estimate moments from observed proportions \n",
    "    mm = [0.5, 0.4, 0.3, 0.2, 0.1, 0.2, 0.4, 0.3, 0.2, 0.8] # synthesis_moments(Xmat,Kvec)\n",
    "\n",
    "    reslist = [] #list()\n",
    "\n",
    "    ## 1 component\n",
    "    # Compute good initial values for the likelihood\n",
    "    Cmix=1\n",
    "    if (initval is None): \n",
    "        init = np.array([0.5] * len(mm)) #initial.values(mm,Cmix)\n",
    "        init = np.log(init)\n",
    "\n",
    "    else:\n",
    "        init = np.log(mm) # np.log(initval)\n",
    "        \n",
    "    # I realized that this is not necessary\n",
    "    \n",
    "    # Max likelihood\n",
    "    #def aux_fun(x):\n",
    "    #    return llik_Kvec(np.exp(x[0:Cmix]), np.exp(x[(Cmix):(2*Cmix)]), 1, Xmat, Kvec)\n",
    "    \n",
    "    #prem = minimize(fun    = aux_fun,\n",
    "    #                x0     = init,\n",
    "    #                method = 'BFGS')\n",
    "    print(init)\n",
    "    def fn2(x):\n",
    "        return llik_Kvec(x[0:Cmix], x[(Cmix):(2*Cmix)], [1], Xmat, Kvec)\n",
    "\n",
    "    reslist = minimize(fn2, \n",
    "                       np.exp(init), \n",
    "                       method = \"Nelder-Mead\")[0][1] # Point where minimum occur\n",
    "    #reslist[[Cmix]]$hessian = numDeriv::hessian(fn2,reslist[[Cmix]]$par)\n",
    "    print('It worked')\n",
    "\n",
    "    if (Cmax==1):\n",
    "        return(reslist)\n",
    "    \n",
    "    else:\n",
    "    ## 2 components and more\n",
    "    ## For the moment, initial.values() goes up to Cmax=2\n",
    "        for Cmix in list(range(1,Cmax)):\n",
    "            if (initval is None): \n",
    "                init = np.array([0.5] * len(mm)) #initial.values(mm,Cmix)\n",
    "                init = np.log(init)\n",
    "\n",
    "            else:\n",
    "                init = np.log(initval)\n",
    "\n",
    "             # Initial values\n",
    "            init = c(log(init[1:(2*Cmix)]),init[(2*Cmix+1):(3*Cmix-1)])\n",
    "\n",
    "            # This is not necessary\n",
    "            #def aux_fun2(x):\n",
    "            #    return llik.Kvec(exp(x[1:Cmix]),exp(x[(Cmix+1):(2*Cmix)]),c(pnorm(x[(2*Cmix+1):(3*Cmix-1)]),1-sum(pnorm(x[(2*Cmix+1):(3*Cmix-1)]))),Xmat,Kvec)\n",
    "\n",
    "            #prem = optim(init,\n",
    "            #             fn = aux_fun2,\n",
    "            #             method=\"BFGS\",\n",
    "            #             hessian=FALSE)\n",
    "\n",
    "            init = np.array(np.exp(init[0:(2*Cmix)]),norm.cdf(init[(2*Cmix):(3*Cmix-1)]))\n",
    "\n",
    "            def aux_fun3(x):\n",
    "                return llik_Kvec(x[0:Cmix],x[(Cmix):(2*Cmix)],c(x[(2*Cmix):(3*Cmix-1)],1-sum(x[(2*Cmix):(3*Cmix-1)])),Xmat,Kvec)\n",
    "\n",
    "            reslist[Cmix] = minimize(aux_fun3, \n",
    "                                     init, \n",
    "                                     method = \"Nelder-Mead\",\n",
    "                                     options = {'maxiter': 2})[0][1] # Point where minimum occur\n",
    "\n",
    "\n",
    "\n",
    "            #reslist[[Cmix]]$hessian = numDeriv::hessian(fn2,reslist[[Cmix]]$par)\n",
    "            #reslist[[Cmix]]$lr.pval = 1-pchisq(2*(reslist[[Cmix-1]]$value-reslist[[Cmix]]$value),3)\n",
    "\n",
    "\n",
    "        return reslist\n"
   ]
  },
  {
   "cell_type": "code",
   "execution_count": 1041,
   "metadata": {},
   "outputs": [],
   "source": [
    "def fn2(x):\n",
    "    return llik_Kvec(x[0:Cmix], x[(Cmix):(2*Cmix)], [1], Xmat, Kvec)"
   ]
  },
  {
   "cell_type": "code",
   "execution_count": 1004,
   "metadata": {},
   "outputs": [],
   "source": [
    "x = [4,5,7,6,8,9,10]\n",
    "\n",
    "def aux_fun(x):\n",
    "    return llik_Kvec(np.exp(x[0:Cmix]), np.exp(x[(Cmix):2*Cmix]), 1, Xmat, Kvec)"
   ]
  },
  {
   "cell_type": "code",
   "execution_count": 1050,
   "metadata": {},
   "outputs": [],
   "source": [
    "os.chdir('C:\\\\Users\\\\renan\\\\Desktop\\\\RIDIR project\\\\Non_Parametric_Binomial_Rathelot_2017\\\\beta_mixture_approach_2012\\\\Archive')"
   ]
  },
  {
   "cell_type": "code",
   "execution_count": 1051,
   "metadata": {},
   "outputs": [
    {
     "data": {
      "text/html": [
       "<div>\n",
       "<style scoped>\n",
       "    .dataframe tbody tr th:only-of-type {\n",
       "        vertical-align: middle;\n",
       "    }\n",
       "\n",
       "    .dataframe tbody tr th {\n",
       "        vertical-align: top;\n",
       "    }\n",
       "\n",
       "    .dataframe thead th {\n",
       "        text-align: right;\n",
       "    }\n",
       "</style>\n",
       "<table border=\"1\" class=\"dataframe\">\n",
       "  <thead>\n",
       "    <tr style=\"text-align: right;\">\n",
       "      <th></th>\n",
       "      <th>X</th>\n",
       "      <th>K</th>\n",
       "    </tr>\n",
       "  </thead>\n",
       "  <tbody>\n",
       "    <tr>\n",
       "      <th>0</th>\n",
       "      <td>0</td>\n",
       "      <td>13</td>\n",
       "    </tr>\n",
       "    <tr>\n",
       "      <th>1</th>\n",
       "      <td>1</td>\n",
       "      <td>41</td>\n",
       "    </tr>\n",
       "    <tr>\n",
       "      <th>2</th>\n",
       "      <td>0</td>\n",
       "      <td>43</td>\n",
       "    </tr>\n",
       "    <tr>\n",
       "      <th>3</th>\n",
       "      <td>3</td>\n",
       "      <td>41</td>\n",
       "    </tr>\n",
       "    <tr>\n",
       "      <th>4</th>\n",
       "      <td>0</td>\n",
       "      <td>60</td>\n",
       "    </tr>\n",
       "  </tbody>\n",
       "</table>\n",
       "</div>"
      ],
      "text/plain": [
       "   X   K\n",
       "0  0  13\n",
       "1  1  41\n",
       "2  0  43\n",
       "3  3  41\n",
       "4  0  60"
      ]
     },
     "execution_count": 1051,
     "metadata": {},
     "output_type": "execute_result"
    }
   ],
   "source": [
    "data = pd.read_csv('simple.csv')\n",
    "data.head()"
   ]
  },
  {
   "cell_type": "code",
   "execution_count": 1052,
   "metadata": {},
   "outputs": [],
   "source": [
    "def vector_to_count(data, rangeK = None):\n",
    "    \n",
    "    # data is a pandas dataframe with columns X and K\n",
    "    \n",
    "    X = data['X']\n",
    "    K = data['K']\n",
    "    \n",
    "    if (rangeK is None):\n",
    "        rangeK = list(set(K.values))\n",
    "    \n",
    "    else:\n",
    "        X = X[K.isin(rangeK)]\n",
    "        K = K[K.isin(rangeK)]\n",
    "    \n",
    "    Pmat = np.full(shape = (max(K)+2, len(rangeK)), fill_value = -99)\n",
    "\n",
    "    for j in range(len(rangeK)):\n",
    "        Kj = rangeK[j]\n",
    "        Xj = X[K == Kj]\n",
    "        aux = Xj+1\n",
    "        Pmat[0:(Kj+1),j] = np.bincount(aux, minlength=Kj+2)[1:] # tabulate(Xj+1,nbins=Kj+1)\n",
    "    \n",
    "    return {'Xmat': Pmat,\n",
    "            'Kvec': rangeK}"
   ]
  },
  {
   "cell_type": "code",
   "execution_count": 1053,
   "metadata": {},
   "outputs": [],
   "source": [
    "data_changed = vector_to_count(data, rangeK = None)\n",
    "Xmat = data_changed['Xmat']\n",
    "Kvec = data_changed['Kvec']"
   ]
  },
  {
   "cell_type": "code",
   "execution_count": 1055,
   "metadata": {},
   "outputs": [
    {
     "name": "stdout",
     "output_type": "stream",
     "text": [
      "[-0.69314718 -0.69314718 -0.69314718 -0.69314718 -0.69314718 -0.69314718\n",
      " -0.69314718 -0.69314718 -0.69314718 -0.69314718]\n",
      "{'a': array([0.5]), 'b': array([0.5]), 'lam': [1], 'Kvec[j]': 1, 'cumsum': 0}\n",
      "{'a': array([0.5]), 'b': array([0.5]), 'lam': [1], 'Kvec[j]': 2, 'cumsum': 165.66217615382692}\n",
      "{'a': array([0.5]), 'b': array([0.5]), 'lam': [1], 'Kvec[j]': 3, 'cumsum': 498.08616298928075}\n",
      "{'a': array([0.5]), 'b': array([0.5]), 'lam': [1], 'Kvec[j]': 4, 'cumsum': 807.7268115724228}\n",
      "{'a': array([0.5]), 'b': array([0.5]), 'lam': [1], 'Kvec[j]': 5, 'cumsum': 1147.8173409863127}\n",
      "{'a': array([0.5]), 'b': array([0.5]), 'lam': [1], 'Kvec[j]': 6, 'cumsum': 1430.0758030445922}\n",
      "{'a': array([0.5]), 'b': array([0.5]), 'lam': [1], 'Kvec[j]': 7, 'cumsum': 1706.054361495752}\n",
      "{'a': array([0.5]), 'b': array([0.5]), 'lam': [1], 'Kvec[j]': 8, 'cumsum': 1965.4358312070372}\n",
      "{'a': array([0.5]), 'b': array([0.5]), 'lam': [1], 'Kvec[j]': 9, 'cumsum': 2277.7805527784813}\n",
      "{'a': array([0.5]), 'b': array([0.5]), 'lam': [1], 'Kvec[j]': 10, 'cumsum': 2489.6111476928336}\n",
      "{'a': array([0.5]), 'b': array([0.5]), 'lam': [1], 'Kvec[j]': 11, 'cumsum': 2742.0026798181743}\n",
      "{'a': array([0.5]), 'b': array([0.5]), 'lam': [1], 'Kvec[j]': 12, 'cumsum': 2958.5019037370566}\n",
      "{'a': array([0.5]), 'b': array([0.5]), 'lam': [1], 'Kvec[j]': 13, 'cumsum': 3269.8802454910833}\n",
      "{'a': array([0.5]), 'b': array([0.5]), 'lam': [1], 'Kvec[j]': 14, 'cumsum': 3560.734310952961}\n",
      "{'a': array([0.5]), 'b': array([0.5]), 'lam': [1], 'Kvec[j]': 15, 'cumsum': 3948.2569169284648}\n",
      "{'a': array([0.5]), 'b': array([0.5]), 'lam': [1], 'Kvec[j]': 16, 'cumsum': 4263.959785667299}\n",
      "{'a': array([0.5]), 'b': array([0.5]), 'lam': [1], 'Kvec[j]': 17, 'cumsum': 4663.464490663382}\n",
      "{'a': array([0.5]), 'b': array([0.5]), 'lam': [1], 'Kvec[j]': 18, 'cumsum': 5114.545602453797}\n",
      "{'a': array([0.5]), 'b': array([0.5]), 'lam': [1], 'Kvec[j]': 19, 'cumsum': 5774.7383294032725}\n",
      "{'a': array([0.5]), 'b': array([0.5]), 'lam': [1], 'Kvec[j]': 20, 'cumsum': 6308.205151470704}\n",
      "{'a': array([0.5]), 'b': array([0.5]), 'lam': [1], 'Kvec[j]': 21, 'cumsum': 6984.044202004783}\n",
      "{'a': array([0.5]), 'b': array([0.5]), 'lam': [1], 'Kvec[j]': 22, 'cumsum': 7804.456752646796}\n",
      "{'a': array([0.5]), 'b': array([0.5]), 'lam': [1], 'Kvec[j]': 23, 'cumsum': 8878.573187248447}\n",
      "{'a': array([0.5]), 'b': array([0.5]), 'lam': [1], 'Kvec[j]': 24, 'cumsum': 9803.11350957402}\n",
      "{'a': array([0.5]), 'b': array([0.5]), 'lam': [1], 'Kvec[j]': 25, 'cumsum': 10975.665416235199}\n",
      "{'a': array([0.5]), 'b': array([0.5]), 'lam': [1], 'Kvec[j]': 26, 'cumsum': 12197.652414358683}\n",
      "{'a': array([0.5]), 'b': array([0.5]), 'lam': [1], 'Kvec[j]': 27, 'cumsum': 13774.28810148795}\n",
      "{'a': array([0.5]), 'b': array([0.5]), 'lam': [1], 'Kvec[j]': 28, 'cumsum': 14926.908281381378}\n",
      "{'a': array([0.5]), 'b': array([0.5]), 'lam': [1], 'Kvec[j]': 29, 'cumsum': 16684.124657636883}\n",
      "{'a': array([0.5]), 'b': array([0.5]), 'lam': [1], 'Kvec[j]': 30, 'cumsum': 18299.69471437896}\n",
      "{'a': array([0.5]), 'b': array([0.5]), 'lam': [1], 'Kvec[j]': 31, 'cumsum': 20245.152069786982}\n",
      "{'a': array([0.5]), 'b': array([0.5]), 'lam': [1], 'Kvec[j]': 32, 'cumsum': 22318.940273293832}\n",
      "{'a': array([0.5]), 'b': array([0.5]), 'lam': [1], 'Kvec[j]': 33, 'cumsum': 24516.217086106833}\n",
      "{'a': array([0.5]), 'b': array([0.5]), 'lam': [1], 'Kvec[j]': 34, 'cumsum': 26241.870717246355}\n",
      "{'a': array([0.5]), 'b': array([0.5]), 'lam': [1], 'Kvec[j]': 35, 'cumsum': 28081.42853141127}\n",
      "{'a': array([0.5]), 'b': array([0.5]), 'lam': [1], 'Kvec[j]': 36, 'cumsum': 30208.16635523941}\n",
      "{'a': array([0.5]), 'b': array([0.5]), 'lam': [1], 'Kvec[j]': 37, 'cumsum': 32117.649531000443}\n",
      "{'a': array([0.5]), 'b': array([0.5]), 'lam': [1], 'Kvec[j]': 38, 'cumsum': 34293.254153632704}\n",
      "{'a': array([0.5]), 'b': array([0.5]), 'lam': [1], 'Kvec[j]': 39, 'cumsum': 35970.408260766264}\n",
      "{'a': array([0.5]), 'b': array([0.5]), 'lam': [1], 'Kvec[j]': 40, 'cumsum': 37865.901440407324}\n",
      "{'a': array([0.5]), 'b': array([0.5]), 'lam': [1], 'Kvec[j]': 41, 'cumsum': 39391.8378669019}\n",
      "{'a': array([0.5]), 'b': array([0.5]), 'lam': [1], 'Kvec[j]': 42, 'cumsum': 41355.64855593689}\n",
      "{'a': array([0.5]), 'b': array([0.5]), 'lam': [1], 'Kvec[j]': 43, 'cumsum': 42787.1639244524}\n",
      "{'a': array([0.5]), 'b': array([0.5]), 'lam': [1], 'Kvec[j]': 44, 'cumsum': 44269.11620689954}\n",
      "{'a': array([0.5]), 'b': array([0.5]), 'lam': [1], 'Kvec[j]': 45, 'cumsum': 45807.110028723764}\n",
      "{'a': array([0.5]), 'b': array([0.5]), 'lam': [1], 'Kvec[j]': 46, 'cumsum': 47264.16388621971}\n",
      "{'a': array([0.5]), 'b': array([0.5]), 'lam': [1], 'Kvec[j]': 47, 'cumsum': 48558.57705131713}\n",
      "{'a': array([0.5]), 'b': array([0.5]), 'lam': [1], 'Kvec[j]': 48, 'cumsum': 49762.68824938738}\n",
      "{'a': array([0.5]), 'b': array([0.5]), 'lam': [1], 'Kvec[j]': 49, 'cumsum': 50552.556358627466}\n",
      "{'a': array([0.5]), 'b': array([0.5]), 'lam': [1], 'Kvec[j]': 50, 'cumsum': 51669.3515847363}\n",
      "{'a': array([0.5]), 'b': array([0.5]), 'lam': [1], 'Kvec[j]': 51, 'cumsum': 52584.07192999113}\n",
      "{'a': array([0.5]), 'b': array([0.5]), 'lam': [1], 'Kvec[j]': 52, 'cumsum': 53589.94815978594}\n",
      "{'a': array([0.5]), 'b': array([0.5]), 'lam': [1], 'Kvec[j]': 53, 'cumsum': 54347.66417162388}\n",
      "{'a': array([0.5]), 'b': array([0.5]), 'lam': [1], 'Kvec[j]': 54, 'cumsum': 55042.225424931465}\n",
      "{'a': array([0.5]), 'b': array([0.5]), 'lam': [1], 'Kvec[j]': 55, 'cumsum': 55717.370804431484}\n",
      "{'a': array([0.5]), 'b': array([0.5]), 'lam': [1], 'Kvec[j]': 56, 'cumsum': 56400.33962351}\n",
      "{'a': array([0.5]), 'b': array([0.5]), 'lam': [1], 'Kvec[j]': 57, 'cumsum': 56748.186180335506}\n",
      "{'a': array([0.5]), 'b': array([0.5]), 'lam': [1], 'Kvec[j]': 58, 'cumsum': 57100.3885258496}\n",
      "{'a': array([0.5]), 'b': array([0.5]), 'lam': [1], 'Kvec[j]': 59, 'cumsum': 57491.1317020054}\n",
      "{'a': array([0.5]), 'b': array([0.5]), 'lam': [1], 'Kvec[j]': 60, 'cumsum': 57791.15038530921}\n",
      "{'a': array([0.5]), 'b': array([0.5]), 'lam': [1], 'Kvec[j]': 61, 'cumsum': 58057.298620988724}\n",
      "{'a': array([0.5]), 'b': array([0.5]), 'lam': [1], 'Kvec[j]': 62, 'cumsum': 58330.15048345254}\n",
      "{'a': array([0.5]), 'b': array([0.5]), 'lam': [1], 'Kvec[j]': 63, 'cumsum': 58499.63742810114}\n",
      "{'a': array([0.5]), 'b': array([0.5]), 'lam': [1], 'Kvec[j]': 64, 'cumsum': 58720.28947985719}\n",
      "{'a': array([0.5]), 'b': array([0.5]), 'lam': [1], 'Kvec[j]': 65, 'cumsum': 58817.49424566701}\n",
      "{'a': array([0.5]), 'b': array([0.5]), 'lam': [1], 'Kvec[j]': 66, 'cumsum': 58949.94779087983}\n",
      "{'a': array([0.5]), 'b': array([0.5]), 'lam': [1], 'Kvec[j]': 67, 'cumsum': 59064.59091592882}\n",
      "{'a': array([0.5]), 'b': array([0.5]), 'lam': [1], 'Kvec[j]': 68, 'cumsum': 59150.40475944463}\n",
      "{'a': array([0.5]), 'b': array([0.5]), 'lam': [1], 'Kvec[j]': 69, 'cumsum': 59344.953504353194}\n",
      "{'a': array([0.5]), 'b': array([0.5]), 'lam': [1], 'Kvec[j]': 70, 'cumsum': 59376.32330439343}\n",
      "{'a': array([0.5]), 'b': array([0.5]), 'lam': [1], 'Kvec[j]': 71, 'cumsum': 59586.21979278897}\n",
      "{'a': array([0.5]), 'b': array([0.5]), 'lam': [1], 'Kvec[j]': 72, 'cumsum': 59608.531741475184}\n",
      "{'a': array([0.5]), 'b': array([0.5]), 'lam': [1], 'Kvec[j]': 73, 'cumsum': 59709.433485042595}\n",
      "{'a': array([0.5]), 'b': array([0.5]), 'lam': [1], 'Kvec[j]': 74, 'cumsum': 59882.64985574704}\n",
      "{'a': array([0.5]), 'b': array([0.5]), 'lam': [1], 'Kvec[j]': 75, 'cumsum': 59980.75675568192}\n",
      "{'a': array([0.5]), 'b': array([0.5]), 'lam': [1], 'Kvec[j]': 76, 'cumsum': 59993.95902894991}\n",
      "{'a': array([0.5]), 'b': array([0.5]), 'lam': [1], 'Kvec[j]': 77, 'cumsum': 60051.96971823907}\n",
      "{'a': array([0.5]), 'b': array([0.5]), 'lam': [1], 'Kvec[j]': 78, 'cumsum': 60096.23962955519}\n",
      "{'a': array([0.5]), 'b': array([0.5]), 'lam': [1], 'Kvec[j]': 79, 'cumsum': 60098.99195146459}\n",
      "{'a': array([0.5]), 'b': array([0.5]), 'lam': [1], 'Kvec[j]': 80, 'cumsum': 60215.88922170151}\n",
      "{'a': array([0.5]), 'b': array([0.5]), 'lam': [1], 'Kvec[j]': 81, 'cumsum': 60293.62461336955}\n",
      "{'a': array([0.5]), 'b': array([0.5]), 'lam': [1], 'Kvec[j]': 82, 'cumsum': 60304.24828317521}\n",
      "{'a': array([0.5]), 'b': array([0.5]), 'lam': [1], 'Kvec[j]': 83, 'cumsum': 60328.150619533946}\n",
      "{'a': array([0.5]), 'b': array([0.5]), 'lam': [1], 'Kvec[j]': 84, 'cumsum': 60343.506960634346}\n",
      "{'a': array([0.5]), 'b': array([0.5]), 'lam': [1], 'Kvec[j]': 85, 'cumsum': 60349.08548349194}\n",
      "{'a': array([0.5]), 'b': array([0.5]), 'lam': [1], 'Kvec[j]': 86, 'cumsum': 60351.880644642864}\n",
      "{'a': array([0.5]), 'b': array([0.5]), 'lam': [1], 'Kvec[j]': 87, 'cumsum': 60365.425284413075}\n",
      "{'a': array([0.5]), 'b': array([0.5]), 'lam': [1], 'Kvec[j]': 88, 'cumsum': 60368.232040189025}\n"
     ]
    },
    {
     "ename": "IndexError",
     "evalue": "index 87 is out of bounds for axis 1 with size 87",
     "output_type": "error",
     "traceback": [
      "\u001b[1;31m---------------------------------------------------------------------------\u001b[0m",
      "\u001b[1;31mIndexError\u001b[0m                                Traceback (most recent call last)",
      "\u001b[1;32m<ipython-input-1055-eac1bd0d151b>\u001b[0m in \u001b[0;36m<module>\u001b[1;34m()\u001b[0m\n\u001b[1;32m----> 1\u001b[1;33m \u001b[0mtest\u001b[0m \u001b[1;33m=\u001b[0m \u001b[0mbetamix_estim\u001b[0m\u001b[1;33m(\u001b[0m\u001b[0mXmat\u001b[0m\u001b[1;33m,\u001b[0m \u001b[0mKvec\u001b[0m\u001b[1;33m,\u001b[0m \u001b[0mCmax\u001b[0m \u001b[1;33m=\u001b[0m \u001b[1;36m2\u001b[0m\u001b[1;33m)\u001b[0m\u001b[1;33m\u001b[0m\u001b[0m\n\u001b[0m",
      "\u001b[1;32m<ipython-input-1049-9790ec5326f1>\u001b[0m in \u001b[0;36mbetamix_estim\u001b[1;34m(Xmat, Kvec, Cmax, initval)\u001b[0m\n\u001b[0;32m     62\u001b[0m     reslist = minimize(fn2, \n\u001b[0;32m     63\u001b[0m                        \u001b[0mnp\u001b[0m\u001b[1;33m.\u001b[0m\u001b[0mexp\u001b[0m\u001b[1;33m(\u001b[0m\u001b[0minit\u001b[0m\u001b[1;33m)\u001b[0m\u001b[1;33m,\u001b[0m\u001b[1;33m\u001b[0m\u001b[0m\n\u001b[1;32m---> 64\u001b[1;33m                        method = \"Nelder-Mead\")[0][1] # Point where minimum occur\n\u001b[0m\u001b[0;32m     65\u001b[0m     \u001b[1;31m#reslist[[Cmix]]$hessian = numDeriv::hessian(fn2,reslist[[Cmix]]$par)\u001b[0m\u001b[1;33m\u001b[0m\u001b[1;33m\u001b[0m\u001b[0m\n\u001b[0;32m     66\u001b[0m     \u001b[0mprint\u001b[0m\u001b[1;33m(\u001b[0m\u001b[1;34m'It worked'\u001b[0m\u001b[1;33m)\u001b[0m\u001b[1;33m\u001b[0m\u001b[0m\n",
      "\u001b[1;32m~\\AppData\\Local\\Continuum\\anaconda3\\lib\\site-packages\\scipy\\optimize\\_minimize.py\u001b[0m in \u001b[0;36mminimize\u001b[1;34m(fun, x0, args, method, jac, hess, hessp, bounds, constraints, tol, callback, options)\u001b[0m\n\u001b[0;32m    589\u001b[0m                       callback=callback, **options)\n\u001b[0;32m    590\u001b[0m     \u001b[1;32melif\u001b[0m \u001b[0mmeth\u001b[0m \u001b[1;33m==\u001b[0m \u001b[1;34m'nelder-mead'\u001b[0m\u001b[1;33m:\u001b[0m\u001b[1;33m\u001b[0m\u001b[0m\n\u001b[1;32m--> 591\u001b[1;33m         \u001b[1;32mreturn\u001b[0m \u001b[0m_minimize_neldermead\u001b[0m\u001b[1;33m(\u001b[0m\u001b[0mfun\u001b[0m\u001b[1;33m,\u001b[0m \u001b[0mx0\u001b[0m\u001b[1;33m,\u001b[0m \u001b[0margs\u001b[0m\u001b[1;33m,\u001b[0m \u001b[0mcallback\u001b[0m\u001b[1;33m,\u001b[0m \u001b[1;33m**\u001b[0m\u001b[0moptions\u001b[0m\u001b[1;33m)\u001b[0m\u001b[1;33m\u001b[0m\u001b[0m\n\u001b[0m\u001b[0;32m    592\u001b[0m     \u001b[1;32melif\u001b[0m \u001b[0mmeth\u001b[0m \u001b[1;33m==\u001b[0m \u001b[1;34m'powell'\u001b[0m\u001b[1;33m:\u001b[0m\u001b[1;33m\u001b[0m\u001b[0m\n\u001b[0;32m    593\u001b[0m         \u001b[1;32mreturn\u001b[0m \u001b[0m_minimize_powell\u001b[0m\u001b[1;33m(\u001b[0m\u001b[0mfun\u001b[0m\u001b[1;33m,\u001b[0m \u001b[0mx0\u001b[0m\u001b[1;33m,\u001b[0m \u001b[0margs\u001b[0m\u001b[1;33m,\u001b[0m \u001b[0mcallback\u001b[0m\u001b[1;33m,\u001b[0m \u001b[1;33m**\u001b[0m\u001b[0moptions\u001b[0m\u001b[1;33m)\u001b[0m\u001b[1;33m\u001b[0m\u001b[0m\n",
      "\u001b[1;32m~\\AppData\\Local\\Continuum\\anaconda3\\lib\\site-packages\\scipy\\optimize\\optimize.py\u001b[0m in \u001b[0;36m_minimize_neldermead\u001b[1;34m(func, x0, args, callback, maxiter, maxfev, disp, return_all, initial_simplex, xatol, fatol, adaptive, **unknown_options)\u001b[0m\n\u001b[0;32m    550\u001b[0m \u001b[1;33m\u001b[0m\u001b[0m\n\u001b[0;32m    551\u001b[0m     \u001b[1;32mfor\u001b[0m \u001b[0mk\u001b[0m \u001b[1;32min\u001b[0m \u001b[0mrange\u001b[0m\u001b[1;33m(\u001b[0m\u001b[0mN\u001b[0m \u001b[1;33m+\u001b[0m \u001b[1;36m1\u001b[0m\u001b[1;33m)\u001b[0m\u001b[1;33m:\u001b[0m\u001b[1;33m\u001b[0m\u001b[0m\n\u001b[1;32m--> 552\u001b[1;33m         \u001b[0mfsim\u001b[0m\u001b[1;33m[\u001b[0m\u001b[0mk\u001b[0m\u001b[1;33m]\u001b[0m \u001b[1;33m=\u001b[0m \u001b[0mfunc\u001b[0m\u001b[1;33m(\u001b[0m\u001b[0msim\u001b[0m\u001b[1;33m[\u001b[0m\u001b[0mk\u001b[0m\u001b[1;33m]\u001b[0m\u001b[1;33m)\u001b[0m\u001b[1;33m\u001b[0m\u001b[0m\n\u001b[0m\u001b[0;32m    553\u001b[0m \u001b[1;33m\u001b[0m\u001b[0m\n\u001b[0;32m    554\u001b[0m     \u001b[0mind\u001b[0m \u001b[1;33m=\u001b[0m \u001b[0mnumpy\u001b[0m\u001b[1;33m.\u001b[0m\u001b[0margsort\u001b[0m\u001b[1;33m(\u001b[0m\u001b[0mfsim\u001b[0m\u001b[1;33m)\u001b[0m\u001b[1;33m\u001b[0m\u001b[0m\n",
      "\u001b[1;32m~\\AppData\\Local\\Continuum\\anaconda3\\lib\\site-packages\\scipy\\optimize\\optimize.py\u001b[0m in \u001b[0;36mfunction_wrapper\u001b[1;34m(*wrapper_args)\u001b[0m\n\u001b[0;32m    291\u001b[0m     \u001b[1;32mdef\u001b[0m \u001b[0mfunction_wrapper\u001b[0m\u001b[1;33m(\u001b[0m\u001b[1;33m*\u001b[0m\u001b[0mwrapper_args\u001b[0m\u001b[1;33m)\u001b[0m\u001b[1;33m:\u001b[0m\u001b[1;33m\u001b[0m\u001b[0m\n\u001b[0;32m    292\u001b[0m         \u001b[0mncalls\u001b[0m\u001b[1;33m[\u001b[0m\u001b[1;36m0\u001b[0m\u001b[1;33m]\u001b[0m \u001b[1;33m+=\u001b[0m \u001b[1;36m1\u001b[0m\u001b[1;33m\u001b[0m\u001b[0m\n\u001b[1;32m--> 293\u001b[1;33m         \u001b[1;32mreturn\u001b[0m \u001b[0mfunction\u001b[0m\u001b[1;33m(\u001b[0m\u001b[1;33m*\u001b[0m\u001b[1;33m(\u001b[0m\u001b[0mwrapper_args\u001b[0m \u001b[1;33m+\u001b[0m \u001b[0margs\u001b[0m\u001b[1;33m)\u001b[0m\u001b[1;33m)\u001b[0m\u001b[1;33m\u001b[0m\u001b[0m\n\u001b[0m\u001b[0;32m    294\u001b[0m \u001b[1;33m\u001b[0m\u001b[0m\n\u001b[0;32m    295\u001b[0m     \u001b[1;32mreturn\u001b[0m \u001b[0mncalls\u001b[0m\u001b[1;33m,\u001b[0m \u001b[0mfunction_wrapper\u001b[0m\u001b[1;33m\u001b[0m\u001b[0m\n",
      "\u001b[1;32m<ipython-input-1049-9790ec5326f1>\u001b[0m in \u001b[0;36mfn2\u001b[1;34m(x)\u001b[0m\n\u001b[0;32m     58\u001b[0m     \u001b[0mprint\u001b[0m\u001b[1;33m(\u001b[0m\u001b[0minit\u001b[0m\u001b[1;33m)\u001b[0m\u001b[1;33m\u001b[0m\u001b[0m\n\u001b[0;32m     59\u001b[0m     \u001b[1;32mdef\u001b[0m \u001b[0mfn2\u001b[0m\u001b[1;33m(\u001b[0m\u001b[0mx\u001b[0m\u001b[1;33m)\u001b[0m\u001b[1;33m:\u001b[0m\u001b[1;33m\u001b[0m\u001b[0m\n\u001b[1;32m---> 60\u001b[1;33m         \u001b[1;32mreturn\u001b[0m \u001b[0mllik_Kvec\u001b[0m\u001b[1;33m(\u001b[0m\u001b[0mx\u001b[0m\u001b[1;33m[\u001b[0m\u001b[1;36m0\u001b[0m\u001b[1;33m:\u001b[0m\u001b[0mCmix\u001b[0m\u001b[1;33m]\u001b[0m\u001b[1;33m,\u001b[0m \u001b[0mx\u001b[0m\u001b[1;33m[\u001b[0m\u001b[1;33m(\u001b[0m\u001b[0mCmix\u001b[0m\u001b[1;33m)\u001b[0m\u001b[1;33m:\u001b[0m\u001b[1;33m(\u001b[0m\u001b[1;36m2\u001b[0m\u001b[1;33m*\u001b[0m\u001b[0mCmix\u001b[0m\u001b[1;33m)\u001b[0m\u001b[1;33m]\u001b[0m\u001b[1;33m,\u001b[0m \u001b[1;33m[\u001b[0m\u001b[1;36m1\u001b[0m\u001b[1;33m]\u001b[0m\u001b[1;33m,\u001b[0m \u001b[0mXmat\u001b[0m\u001b[1;33m,\u001b[0m \u001b[0mKvec\u001b[0m\u001b[1;33m)\u001b[0m\u001b[1;33m\u001b[0m\u001b[0m\n\u001b[0m\u001b[0;32m     61\u001b[0m \u001b[1;33m\u001b[0m\u001b[0m\n\u001b[0;32m     62\u001b[0m     reslist = minimize(fn2, \n",
      "\u001b[1;32m<ipython-input-1035-a6d3921074c7>\u001b[0m in \u001b[0;36mllik_Kvec\u001b[1;34m(a, b, lam, Xmat, Kvec)\u001b[0m\n\u001b[0;32m     10\u001b[0m              \u001b[1;34m'Kvec[j]'\u001b[0m\u001b[1;33m:\u001b[0m \u001b[0mKvec\u001b[0m\u001b[1;33m[\u001b[0m\u001b[0mj\u001b[0m\u001b[1;33m]\u001b[0m\u001b[1;33m,\u001b[0m\u001b[1;33m\u001b[0m\u001b[0m\n\u001b[0;32m     11\u001b[0m              'cumsum': cumsum})\n\u001b[1;32m---> 12\u001b[1;33m         \u001b[0mcumsum\u001b[0m \u001b[1;33m+=\u001b[0m \u001b[0mllik_cnt\u001b[0m\u001b[1;33m(\u001b[0m\u001b[0ma\u001b[0m\u001b[1;33m,\u001b[0m \u001b[0mb\u001b[0m\u001b[1;33m,\u001b[0m \u001b[0mlam\u001b[0m\u001b[1;33m,\u001b[0m \u001b[0mKvec\u001b[0m\u001b[1;33m[\u001b[0m\u001b[0mj\u001b[0m\u001b[1;33m]\u001b[0m\u001b[1;33m,\u001b[0m \u001b[0mXmat\u001b[0m\u001b[1;33m[\u001b[0m\u001b[1;36m0\u001b[0m\u001b[1;33m:\u001b[0m\u001b[1;33m(\u001b[0m\u001b[0mKvec\u001b[0m\u001b[1;33m[\u001b[0m\u001b[0mj\u001b[0m\u001b[1;33m]\u001b[0m\u001b[1;33m+\u001b[0m\u001b[1;36m1\u001b[0m\u001b[1;33m)\u001b[0m\u001b[1;33m,\u001b[0m \u001b[0mj\u001b[0m\u001b[1;33m]\u001b[0m\u001b[1;33m)\u001b[0m\u001b[1;33m\u001b[0m\u001b[0m\n\u001b[0m\u001b[0;32m     13\u001b[0m \u001b[1;33m\u001b[0m\u001b[0m\n\u001b[0;32m     14\u001b[0m \u001b[1;33m\u001b[0m\u001b[0m\n",
      "\u001b[1;31mIndexError\u001b[0m: index 87 is out of bounds for axis 1 with size 87"
     ]
    }
   ],
   "source": [
    "test = betamix_estim(Xmat, Kvec, Cmax = 2)"
   ]
  },
  {
   "cell_type": "code",
   "execution_count": null,
   "metadata": {},
   "outputs": [],
   "source": []
  }
 ],
 "metadata": {
  "kernelspec": {
   "display_name": "Python 3",
   "language": "python",
   "name": "python3"
  },
  "language_info": {
   "codemirror_mode": {
    "name": "ipython",
    "version": 3
   },
   "file_extension": ".py",
   "mimetype": "text/x-python",
   "name": "python",
   "nbconvert_exporter": "python",
   "pygments_lexer": "ipython3",
   "version": "3.6.5"
  }
 },
 "nbformat": 4,
 "nbformat_minor": 2
}
