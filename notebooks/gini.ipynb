{
 "cells": [
  {
   "cell_type": "code",
   "execution_count": 62,
   "metadata": {},
   "outputs": [
    {
     "name": "stdout",
     "output_type": "stream",
     "text": [
      "Populating the interactive namespace from numpy and matplotlib\n"
     ]
    }
   ],
   "source": [
    "import sys\n",
    "import os\n",
    "import matplotlib.pyplot as plt\n",
    "%pylab inline"
   ]
  },
  {
   "cell_type": "code",
   "execution_count": 63,
   "metadata": {},
   "outputs": [],
   "source": [
    "sys.path.append(os.path.abspath('..'))\n",
    "import inequality\n",
    "import libpysal"
   ]
  },
  {
   "cell_type": "code",
   "execution_count": 64,
   "metadata": {},
   "outputs": [
    {
     "data": {
      "text/plain": [
       "['georgia',\n",
       " '__pycache__',\n",
       " 'tests',\n",
       " 'newHaven',\n",
       " 'Polygon_Holes',\n",
       " 'nat',\n",
       " 'Polygon',\n",
       " '10740',\n",
       " 'berlin',\n",
       " 'rio_grande_do_sul',\n",
       " 'sids2',\n",
       " 'sacramento2',\n",
       " 'burkitt',\n",
       " 'arcgis',\n",
       " 'calemp',\n",
       " 'stl',\n",
       " 'virginia',\n",
       " 'geodanet',\n",
       " 'desmith',\n",
       " 'book',\n",
       " 'nyc_bikes',\n",
       " 'Line',\n",
       " 'south',\n",
       " 'snow_maps',\n",
       " 'Point',\n",
       " 'street_net_pts',\n",
       " 'guerry',\n",
       " '__pycache__',\n",
       " 'baltim',\n",
       " 'networks',\n",
       " 'us_income',\n",
       " 'taz',\n",
       " 'columbus',\n",
       " 'tokyo',\n",
       " 'mexico',\n",
       " '__pycache__',\n",
       " 'chicago',\n",
       " 'wmat',\n",
       " 'juvenile',\n",
       " 'clearwater']"
      ]
     },
     "execution_count": 64,
     "metadata": {},
     "output_type": "execute_result"
    }
   ],
   "source": [
    "libpysal.examples.available()"
   ]
  },
  {
   "cell_type": "code",
   "execution_count": 65,
   "metadata": {},
   "outputs": [
    {
     "data": {
      "text/plain": [
       "{'name': 'mexico',\n",
       " 'description': 'Decennial per capita incomes of Mexican states 1940-2000',\n",
       " 'explanation': ['* mexico.csv: attribute data. (n=32, k=13)',\n",
       "  '* mexico.gal: spatial weights in GAL format.',\n",
       "  '* mexicojoin.shp: Polygon shapefile. (n=32)',\n",
       "  'Data used in Rey, S.J. and M.L. Sastre Gutierrez. (2010) \"Interregional inequality dynamics in Mexico.\" Spatial Economic Analysis, 5: 277-298.']}"
      ]
     },
     "execution_count": 65,
     "metadata": {},
     "output_type": "execute_result"
    }
   ],
   "source": [
    "libpysal.examples.explain('mexico')"
   ]
  },
  {
   "cell_type": "code",
   "execution_count": 66,
   "metadata": {},
   "outputs": [],
   "source": [
    "import geopandas\n",
    "pth = libpysal.examples.get_path(\"mexicojoin.shp\")\n",
    "gdf = geopandas.read_file(pth)\n",
    "\n",
    "from libpysal.weights import Queen, Rook, KNN"
   ]
  },
  {
   "cell_type": "code",
   "execution_count": 67,
   "metadata": {},
   "outputs": [],
   "source": [
    "%matplotlib inline\n",
    "import matplotlib.pyplot as plt\n"
   ]
  },
  {
   "cell_type": "code",
   "execution_count": 68,
   "metadata": {},
   "outputs": [
    {
     "data": {
      "image/png": "[encoded data removed]",
      "text/plain": [
       "<Figure size 432x288 with 1 Axes>"
      ]
     },
     "metadata": {
      "needs_background": "light"
     },
     "output_type": "display_data"
    }
   ],
   "source": [
    "ax = gdf.plot()\n",
    "ax.set_axis_off()"
   ]
  },
  {
   "cell_type": "code",
   "execution_count": 69,
   "metadata": {},
   "outputs": [
    {
     "data": {
      "text/html": [
       "<div>\n",
       "<style scoped>\n",
       "    .dataframe tbody tr th:only-of-type {\n",
       "        vertical-align: middle;\n",
       "    }\n",
       "\n",
       "    .dataframe tbody tr th {\n",
       "        vertical-align: top;\n",
       "    }\n",
       "\n",
       "    .dataframe thead th {\n",
       "        text-align: right;\n",
       "    }\n",
       "</style>\n",
       "<table border=\"1\" class=\"dataframe\">\n",
       "  <thead>\n",
       "    <tr style=\"text-align: right;\">\n",
       "      <th></th>\n",
       "      <th>POLY_ID</th>\n",
       "      <th>AREA</th>\n",
       "      <th>CODE</th>\n",
       "      <th>NAME</th>\n",
       "      <th>PERIMETER</th>\n",
       "      <th>ACRES</th>\n",
       "      <th>HECTARES</th>\n",
       "      <th>PCGDP1940</th>\n",
       "      <th>PCGDP1950</th>\n",
       "      <th>PCGDP1960</th>\n",
       "      <th>...</th>\n",
       "      <th>GR9000</th>\n",
       "      <th>LPCGDP40</th>\n",
       "      <th>LPCGDP50</th>\n",
       "      <th>LPCGDP60</th>\n",
       "      <th>LPCGDP70</th>\n",
       "      <th>LPCGDP80</th>\n",
       "      <th>LPCGDP90</th>\n",
       "      <th>LPCGDP00</th>\n",
       "      <th>TEST</th>\n",
       "      <th>geometry</th>\n",
       "    </tr>\n",
       "  </thead>\n",
       "  <tbody>\n",
       "    <tr>\n",
       "      <th>0</th>\n",
       "      <td>1</td>\n",
       "      <td>7.252751e+10</td>\n",
       "      <td>MX02</td>\n",
       "      <td>Baja California Norte</td>\n",
       "      <td>2040312.385</td>\n",
       "      <td>1.792187e+07</td>\n",
       "      <td>7252751.376</td>\n",
       "      <td>22361.0</td>\n",
       "      <td>20977.0</td>\n",
       "      <td>17865.0</td>\n",
       "      <td>...</td>\n",
       "      <td>0.05</td>\n",
       "      <td>4.35</td>\n",
       "      <td>4.32</td>\n",
       "      <td>4.25</td>\n",
       "      <td>4.40</td>\n",
       "      <td>4.47</td>\n",
       "      <td>4.43</td>\n",
       "      <td>4.48</td>\n",
       "      <td>1.0</td>\n",
       "      <td>(POLYGON ((-113.1397171020508 29.0177764892578...</td>\n",
       "    </tr>\n",
       "    <tr>\n",
       "      <th>1</th>\n",
       "      <td>2</td>\n",
       "      <td>7.225988e+10</td>\n",
       "      <td>MX03</td>\n",
       "      <td>Baja California Sur</td>\n",
       "      <td>2912880.772</td>\n",
       "      <td>1.785573e+07</td>\n",
       "      <td>7225987.769</td>\n",
       "      <td>9573.0</td>\n",
       "      <td>16013.0</td>\n",
       "      <td>16707.0</td>\n",
       "      <td>...</td>\n",
       "      <td>0.00</td>\n",
       "      <td>3.98</td>\n",
       "      <td>4.20</td>\n",
       "      <td>4.22</td>\n",
       "      <td>4.39</td>\n",
       "      <td>4.46</td>\n",
       "      <td>4.41</td>\n",
       "      <td>4.42</td>\n",
       "      <td>2.0</td>\n",
       "      <td>(POLYGON ((-111.2061233520508 25.8027763366699...</td>\n",
       "    </tr>\n",
       "    <tr>\n",
       "      <th>2</th>\n",
       "      <td>3</td>\n",
       "      <td>2.731957e+10</td>\n",
       "      <td>MX18</td>\n",
       "      <td>Nayarit</td>\n",
       "      <td>1034770.341</td>\n",
       "      <td>6.750785e+06</td>\n",
       "      <td>2731956.859</td>\n",
       "      <td>4836.0</td>\n",
       "      <td>7515.0</td>\n",
       "      <td>7621.0</td>\n",
       "      <td>...</td>\n",
       "      <td>-0.05</td>\n",
       "      <td>3.68</td>\n",
       "      <td>3.88</td>\n",
       "      <td>3.88</td>\n",
       "      <td>4.04</td>\n",
       "      <td>4.13</td>\n",
       "      <td>4.11</td>\n",
       "      <td>4.06</td>\n",
       "      <td>3.0</td>\n",
       "      <td>(POLYGON ((-106.6210784912109 21.5653114318847...</td>\n",
       "    </tr>\n",
       "    <tr>\n",
       "      <th>3</th>\n",
       "      <td>4</td>\n",
       "      <td>7.961008e+10</td>\n",
       "      <td>MX14</td>\n",
       "      <td>Jalisco</td>\n",
       "      <td>2324727.436</td>\n",
       "      <td>1.967200e+07</td>\n",
       "      <td>7961008.285</td>\n",
       "      <td>5309.0</td>\n",
       "      <td>8232.0</td>\n",
       "      <td>9953.0</td>\n",
       "      <td>...</td>\n",
       "      <td>0.03</td>\n",
       "      <td>3.73</td>\n",
       "      <td>3.92</td>\n",
       "      <td>4.00</td>\n",
       "      <td>4.21</td>\n",
       "      <td>4.32</td>\n",
       "      <td>4.30</td>\n",
       "      <td>4.33</td>\n",
       "      <td>4.0</td>\n",
       "      <td>POLYGON ((-101.52490234375 21.85663986206055, ...</td>\n",
       "    </tr>\n",
       "    <tr>\n",
       "      <th>4</th>\n",
       "      <td>5</td>\n",
       "      <td>5.467030e+09</td>\n",
       "      <td>MX01</td>\n",
       "      <td>Aguascalientes</td>\n",
       "      <td>313895.530</td>\n",
       "      <td>1.350927e+06</td>\n",
       "      <td>546702.985</td>\n",
       "      <td>10384.0</td>\n",
       "      <td>6234.0</td>\n",
       "      <td>8714.0</td>\n",
       "      <td>...</td>\n",
       "      <td>0.13</td>\n",
       "      <td>4.02</td>\n",
       "      <td>3.79</td>\n",
       "      <td>3.94</td>\n",
       "      <td>4.21</td>\n",
       "      <td>4.32</td>\n",
       "      <td>4.32</td>\n",
       "      <td>4.44</td>\n",
       "      <td>5.0</td>\n",
       "      <td>POLYGON ((-101.8461990356445 22.01176071166992...</td>\n",
       "    </tr>\n",
       "  </tbody>\n",
       "</table>\n",
       "<p>5 rows × 35 columns</p>\n",
       "</div>"
      ],
      "text/plain": [
       "   POLY_ID          AREA  CODE                   NAME    PERIMETER  \\\n",
       "0        1  7.252751e+10  MX02  Baja California Norte  2040312.385   \n",
       "1        2  7.225988e+10  MX03    Baja California Sur  2912880.772   \n",
       "2        3  2.731957e+10  MX18                Nayarit  1034770.341   \n",
       "3        4  7.961008e+10  MX14                Jalisco  2324727.436   \n",
       "4        5  5.467030e+09  MX01         Aguascalientes   313895.530   \n",
       "\n",
       "          ACRES     HECTARES  PCGDP1940  PCGDP1950  PCGDP1960  \\\n",
       "0  1.792187e+07  7252751.376    22361.0    20977.0    17865.0   \n",
       "1  1.785573e+07  7225987.769     9573.0    16013.0    16707.0   \n",
       "2  6.750785e+06  2731956.859     4836.0     7515.0     7621.0   \n",
       "3  1.967200e+07  7961008.285     5309.0     8232.0     9953.0   \n",
       "4  1.350927e+06   546702.985    10384.0     6234.0     8714.0   \n",
       "\n",
       "                         ...                          GR9000  LPCGDP40  \\\n",
       "0                        ...                            0.05      4.35   \n",
       "1                        ...                            0.00      3.98   \n",
       "2                        ...                           -0.05      3.68   \n",
       "3                        ...                            0.03      3.73   \n",
       "4                        ...                            0.13      4.02   \n",
       "\n",
       "   LPCGDP50  LPCGDP60  LPCGDP70  LPCGDP80  LPCGDP90  LPCGDP00  TEST  \\\n",
       "0      4.32      4.25      4.40      4.47      4.43      4.48   1.0   \n",
       "1      4.20      4.22      4.39      4.46      4.41      4.42   2.0   \n",
       "2      3.88      3.88      4.04      4.13      4.11      4.06   3.0   \n",
       "3      3.92      4.00      4.21      4.32      4.30      4.33   4.0   \n",
       "4      3.79      3.94      4.21      4.32      4.32      4.44   5.0   \n",
       "\n",
       "                                            geometry  \n",
       "0  (POLYGON ((-113.1397171020508 29.0177764892578...  \n",
       "1  (POLYGON ((-111.2061233520508 25.8027763366699...  \n",
       "2  (POLYGON ((-106.6210784912109 21.5653114318847...  \n",
       "3  POLYGON ((-101.52490234375 21.85663986206055, ...  \n",
       "4  POLYGON ((-101.8461990356445 22.01176071166992...  \n",
       "\n",
       "[5 rows x 35 columns]"
      ]
     },
     "execution_count": 69,
     "metadata": {},
     "output_type": "execute_result"
    }
   ],
   "source": [
    "gdf.head()"
   ]
  },
  {
   "cell_type": "code",
   "execution_count": 99,
   "metadata": {},
   "outputs": [
    {
     "name": "stderr",
     "output_type": "stream",
     "text": [
      "/home/serge/anaconda3/envs/libpysal/lib/python3.6/site-packages/scipy/stats/stats.py:1713: FutureWarning: Using a non-tuple sequence for multidimensional indexing is deprecated; use `arr[tuple(seq)]` instead of `arr[seq]`. In the future this will be interpreted as an array index, `arr[np.array(seq)]`, which will result either in an error or a different result.\n",
      "  return np.add.reduce(sorted[indexer] * weights, axis=axis) / sumval\n"
     ]
    },
    {
     "data": {
      "image/png": "[encoded data removed]",
      "text/plain": [
       "<Figure size 432x288 with 1 Axes>"
      ]
     },
     "metadata": {
      "needs_background": "light"
     },
     "output_type": "display_data"
    }
   ],
   "source": [
    "ax = gdf.plot(column='PCGDP1940',k=5,scheme='Quantiles',legend=True)\n",
    "ax.set_axis_off()\n",
    "#ax.set_title(\"PC GDP 1940\")\n",
    "plt.savefig('1940.png')"
   ]
  },
  {
   "cell_type": "code",
   "execution_count": 71,
   "metadata": {},
   "outputs": [],
   "source": [
    "gini_1940 = inequality.gini.Gini(gdf['PCGDP1940'])"
   ]
  },
  {
   "cell_type": "code",
   "execution_count": 72,
   "metadata": {},
   "outputs": [
    {
     "data": {
      "text/plain": [
       "0.3537237117345285"
      ]
     },
     "execution_count": 72,
     "metadata": {},
     "output_type": "execute_result"
    }
   ],
   "source": [
    "gini_1940.g"
   ]
  },
  {
   "cell_type": "code",
   "execution_count": 73,
   "metadata": {},
   "outputs": [
    {
     "data": {
      "text/plain": [
       "range(1940, 2010, 10)"
      ]
     },
     "execution_count": 73,
     "metadata": {},
     "output_type": "execute_result"
    }
   ],
   "source": [
    "decades = range(1940, 2010, 10)\n",
    "decades"
   ]
  },
  {
   "cell_type": "code",
   "execution_count": 74,
   "metadata": {},
   "outputs": [],
   "source": [
    "ginis = [ inequality.gini.Gini(gdf[\"PCGDP%s\"%decade]).g for decade in decades]"
   ]
  },
  {
   "cell_type": "code",
   "execution_count": 75,
   "metadata": {},
   "outputs": [
    {
     "data": {
      "text/plain": [
       "[0.3537237117345285,\n",
       " 0.29644613439022827,\n",
       " 0.2537183285655905,\n",
       " 0.25513356494927303,\n",
       " 0.24505338049421577,\n",
       " 0.25181825879538217,\n",
       " 0.2581130824882791]"
      ]
     },
     "execution_count": 75,
     "metadata": {},
     "output_type": "execute_result"
    }
   ],
   "source": [
    "ginis"
   ]
  },
  {
   "cell_type": "code",
   "execution_count": 76,
   "metadata": {},
   "outputs": [
    {
     "data": {
      "text/plain": [
       "inequality.gini.Gini_Spatial"
      ]
     },
     "execution_count": 76,
     "metadata": {},
     "output_type": "execute_result"
    }
   ],
   "source": [
    "inequality.gini.Gini_Spatial"
   ]
  },
  {
   "cell_type": "code",
   "execution_count": 77,
   "metadata": {},
   "outputs": [],
   "source": [
    "regimes = gdf['HANSON98']"
   ]
  },
  {
   "cell_type": "code",
   "execution_count": 78,
   "metadata": {},
   "outputs": [
    {
     "name": "stderr",
     "output_type": "stream",
     "text": [
      "/home/serge/Dropbox/p/pysal/src/subpackages/libpysal/libpysal/weights/weights.py:170: UserWarning: The weights matrix is not fully connected. There are 5 components\n",
      "  warnings.warn(\"The weights matrix is not fully connected. There are %d components\" % self.n_components)\n"
     ]
    }
   ],
   "source": [
    "w = libpysal.weights.block_weights(regimes)"
   ]
  },
  {
   "cell_type": "code",
   "execution_count": 98,
   "metadata": {},
   "outputs": [
    {
     "data": {
      "image/png": "[encoded data removed]",
      "text/plain": [
       "<Figure size 432x288 with 1 Axes>"
      ]
     },
     "metadata": {
      "needs_background": "light"
     },
     "output_type": "display_data"
    }
   ],
   "source": [
    "ax = gdf.plot(column='HANSON98', categorical=True)\n",
    "#ax.set_title('Regions')\n",
    "ax.set_axis_off()\n",
    "plt.savefig('regions.png')"
   ]
  },
  {
   "cell_type": "code",
   "execution_count": 80,
   "metadata": {},
   "outputs": [],
   "source": [
    "import numpy as np\n",
    "np.random.seed(12345)\n",
    "gs = inequality.gini.Gini_Spatial(gdf['PCGDP1940'],w)"
   ]
  },
  {
   "cell_type": "code",
   "execution_count": 81,
   "metadata": {},
   "outputs": [
    {
     "data": {
      "text/plain": [
       "0.01"
      ]
     },
     "execution_count": 81,
     "metadata": {},
     "output_type": "execute_result"
    }
   ],
   "source": [
    "gs.p_sim"
   ]
  },
  {
   "cell_type": "code",
   "execution_count": 82,
   "metadata": {},
   "outputs": [],
   "source": [
    "gs_all = [ inequality.gini.Gini_Spatial(gdf[\"PCGDP%s\"%decade], w) for decade in decades]"
   ]
  },
  {
   "cell_type": "code",
   "execution_count": 83,
   "metadata": {},
   "outputs": [],
   "source": [
    "p_values = [gs.p_sim for gs in gs_all]"
   ]
  },
  {
   "cell_type": "code",
   "execution_count": 84,
   "metadata": {},
   "outputs": [
    {
     "data": {
      "text/plain": [
       "[0.04, 0.01, 0.01, 0.01, 0.02, 0.01, 0.01]"
      ]
     },
     "execution_count": 84,
     "metadata": {},
     "output_type": "execute_result"
    }
   ],
   "source": [
    "p_values"
   ]
  },
  {
   "cell_type": "code",
   "execution_count": 85,
   "metadata": {},
   "outputs": [],
   "source": [
    "wgs = [gs.wcg_share for gs in gs_all]"
   ]
  },
  {
   "cell_type": "code",
   "execution_count": 86,
   "metadata": {},
   "outputs": [
    {
     "data": {
      "text/plain": [
       "[0.2940179879590452,\n",
       " 0.24885041274552472,\n",
       " 0.21715641601961586,\n",
       " 0.2212882581200239,\n",
       " 0.20702733316567423,\n",
       " 0.21270360014540865,\n",
       " 0.2190953550725723]"
      ]
     },
     "execution_count": 86,
     "metadata": {},
     "output_type": "execute_result"
    }
   ],
   "source": [
    "wgs"
   ]
  },
  {
   "cell_type": "code",
   "execution_count": 87,
   "metadata": {},
   "outputs": [],
   "source": [
    "bgs = [ 1 - wg for wg in wgs]\n"
   ]
  },
  {
   "cell_type": "code",
   "execution_count": 88,
   "metadata": {},
   "outputs": [
    {
     "data": {
      "text/plain": [
       "[0.7059820120409548,\n",
       " 0.7511495872544753,\n",
       " 0.7828435839803841,\n",
       " 0.778711741879976,\n",
       " 0.7929726668343258,\n",
       " 0.7872963998545913,\n",
       " 0.7809046449274277]"
      ]
     },
     "execution_count": 88,
     "metadata": {},
     "output_type": "execute_result"
    }
   ],
   "source": [
    "bgs"
   ]
  },
  {
   "cell_type": "code",
   "execution_count": 89,
   "metadata": {},
   "outputs": [
    {
     "name": "stdout",
     "output_type": "stream",
     "text": [
      "Populating the interactive namespace from numpy and matplotlib\n"
     ]
    }
   ],
   "source": [
    "%pylab inline"
   ]
  },
  {
   "cell_type": "code",
   "execution_count": 90,
   "metadata": {},
   "outputs": [],
   "source": [
    "years = np.array(decades)"
   ]
  },
  {
   "cell_type": "code",
   "execution_count": 91,
   "metadata": {},
   "outputs": [
    {
     "data": {
      "text/plain": [
       "array([1940, 1950, 1960, 1970, 1980, 1990, 2000])"
      ]
     },
     "execution_count": 91,
     "metadata": {},
     "output_type": "execute_result"
    }
   ],
   "source": [
    "years"
   ]
  },
  {
   "cell_type": "code",
   "execution_count": 97,
   "metadata": {},
   "outputs": [
    {
     "data": {
      "image/png": "[encoded data removed]",
      "text/plain": [
       "<Figure size 432x288 with 2 Axes>"
      ]
     },
     "metadata": {
      "needs_background": "light"
     },
     "output_type": "display_data"
    }
   ],
   "source": [
    "\n",
    "fig, ax1 = plt.subplots()\n",
    "t = years\n",
    "s1 = ginis\n",
    "ax1.plot(t, s1, 'b-')\n",
    "ax1.set_xlabel('Year')\n",
    "# Make the y-axis label, ticks and tick labels match the line color.\n",
    "ax1.set_ylabel('Gini', color='b')\n",
    "ax1.tick_params('y', colors='b')\n",
    "\n",
    "ax2 = ax1.twinx()\n",
    "s2 = bgs\n",
    "ax2.plot(t, s2, 'r-.')\n",
    "ax2.set_ylabel('Spatial Inequality Share', color='r')\n",
    "ax2.tick_params('y', colors='r')\n",
    "\n",
    "fig.tight_layout()\n",
    "\n",
    "plt.savefig('share.png')"
   ]
  },
  {
   "cell_type": "code",
   "execution_count": null,
   "metadata": {},
   "outputs": [],
   "source": []
  },
  {
   "cell_type": "code",
   "execution_count": null,
   "metadata": {},
   "outputs": [],
   "source": []
  },
  {
   "cell_type": "code",
   "execution_count": null,
   "metadata": {},
   "outputs": [],
   "source": []
  }
 ],
 "metadata": {
  "kernelspec": {
   "display_name": "Python 3",
   "language": "python",
   "name": "python3"
  },
  "language_info": {
   "codemirror_mode": {
    "name": "ipython",
    "version": 3
   },
   "file_extension": ".py",
   "mimetype": "text/x-python",
   "name": "python",
   "nbconvert_exporter": "python",
   "pygments_lexer": "ipython3",
   "version": "3.6.6"
  }
 },
 "nbformat": 4,
 "nbformat_minor": 2
}
