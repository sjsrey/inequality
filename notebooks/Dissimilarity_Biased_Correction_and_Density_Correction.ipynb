{
 "cells": [
  {
   "cell_type": "markdown",
   "metadata": {},
   "source": [
    "# Constructing Dissimilarity Biased Corrected (Dbc) and Density Corrected (Ddc)"
   ]
  },
  {
   "cell_type": "markdown",
   "metadata": {},
   "source": [
    "The classical Dissimilarity Index (D) can be severely upward biased since it is a sum of absolute values and, thus, can lead to greates values of D when small unit are presented even under random even allocation, that is, $p_j^1 = p_j^0$ for all $j$ and $D_{pop} = 0$. For more information, see *Allen, Rebecca, et al. \"More reliable inference for the dissimilarity index of segregation.\" The econometrics journal 18.1 (2015): 40-66.*"
   ]
  },
  {
   "cell_type": "markdown",
   "metadata": {},
   "source": [
    "## Dissimilarity Bias-Corrected"
   ]
  },
  {
   "cell_type": "code",
   "execution_count": 253,
   "metadata": {},
   "outputs": [],
   "source": [
    "import pandas as pd\n",
    "import numpy as np\n",
    "from scipy.stats import norm\n",
    "\n",
    "import os\n",
    "\n",
    "os.chdir('C:/Users/renan/Desktop/inequality-segregation-supplementary-files/')\n",
    "\n",
    "def calculate_dissim(data, group_pop_var, total_pop_var, b = 0.5, m = 1000):\n",
    "    data = data.rename(columns={group_pop_var: 'group_pop_var', total_pop_var: 'total_pop_var'})\n",
    "    T = data.total_pop_var.sum()\n",
    "    P = data.group_pop_var.sum() / T\n",
    "    data = data.assign(xi = data.group_pop_var,\n",
    "                       yi = data.total_pop_var - data.group_pop_var,\n",
    "                       ti = data.total_pop_var,\n",
    "                       pi = np.where(data.total_pop_var == 0, 0, data.group_pop_var/data.total_pop_var))\n",
    "    D = (((data.total_pop_var * abs(data.pi - P)))/ (2 * T * P * (1 - P))).sum()\n",
    "    return D"
   ]
  },
  {
   "cell_type": "code",
   "execution_count": 254,
   "metadata": {},
   "outputs": [
    {
     "data": {
      "text/html": [
       "<div>\n",
       "<style scoped>\n",
       "    .dataframe tbody tr th:only-of-type {\n",
       "        vertical-align: middle;\n",
       "    }\n",
       "\n",
       "    .dataframe tbody tr th {\n",
       "        vertical-align: top;\n",
       "    }\n",
       "\n",
       "    .dataframe thead th {\n",
       "        text-align: right;\n",
       "    }\n",
       "</style>\n",
       "<table border=\"1\" class=\"dataframe\">\n",
       "  <thead>\n",
       "    <tr style=\"text-align: right;\">\n",
       "      <th></th>\n",
       "      <th>trtid10</th>\n",
       "      <th>tract</th>\n",
       "      <th>pop10</th>\n",
       "      <th>nhblk10</th>\n",
       "      <th>other_group_pop</th>\n",
       "    </tr>\n",
       "  </thead>\n",
       "  <tbody>\n",
       "    <tr>\n",
       "      <th>5727</th>\n",
       "      <td>6065042012</td>\n",
       "      <td>Census Tract 420.12</td>\n",
       "      <td>6242</td>\n",
       "      <td>677</td>\n",
       "      <td>5565</td>\n",
       "    </tr>\n",
       "    <tr>\n",
       "      <th>5729</th>\n",
       "      <td>6065041911</td>\n",
       "      <td>Census Tract 419.11</td>\n",
       "      <td>10258</td>\n",
       "      <td>844</td>\n",
       "      <td>9414</td>\n",
       "    </tr>\n",
       "    <tr>\n",
       "      <th>5731</th>\n",
       "      <td>6065041910</td>\n",
       "      <td>Census Tract 419.10</td>\n",
       "      <td>6342</td>\n",
       "      <td>405</td>\n",
       "      <td>5937</td>\n",
       "    </tr>\n",
       "    <tr>\n",
       "      <th>5733</th>\n",
       "      <td>6065040816</td>\n",
       "      <td>Census Tract 408.16</td>\n",
       "      <td>2594</td>\n",
       "      <td>346</td>\n",
       "      <td>2248</td>\n",
       "    </tr>\n",
       "    <tr>\n",
       "      <th>5735</th>\n",
       "      <td>6065040815</td>\n",
       "      <td>Census Tract 408.15</td>\n",
       "      <td>3586</td>\n",
       "      <td>429</td>\n",
       "      <td>3157</td>\n",
       "    </tr>\n",
       "  </tbody>\n",
       "</table>\n",
       "</div>"
      ],
      "text/plain": [
       "         trtid10                tract  pop10  nhblk10  other_group_pop\n",
       "5727  6065042012  Census Tract 420.12   6242      677             5565\n",
       "5729  6065041911  Census Tract 419.11  10258      844             9414\n",
       "5731  6065041910  Census Tract 419.10   6342      405             5937\n",
       "5733  6065040816  Census Tract 408.16   2594      346             2248\n",
       "5735  6065040815  Census Tract 408.15   3586      429             3157"
      ]
     },
     "execution_count": 254,
     "metadata": {},
     "output_type": "execute_result"
    }
   ],
   "source": [
    "census_2010 = pd.read_csv('data/std_2010_fullcount.csv', encoding = \"ISO-8859-1\", sep = \",\")\n",
    "df = census_2010.loc[census_2010.county == \"Riverside County\"][['trtid10','tract','pop10','nhblk10']]\n",
    "df['other_group_pop'] = df.pop10 - df.nhblk10\n",
    "df.head()"
   ]
  },
  {
   "cell_type": "code",
   "execution_count": 255,
   "metadata": {},
   "outputs": [
    {
     "data": {
      "text/plain": [
       "0.31565682496226544"
      ]
     },
     "execution_count": 255,
     "metadata": {},
     "output_type": "execute_result"
    }
   ],
   "source": [
    "D = calculate_dissim(df, 'nhblk10', 'pop10')\n",
    "D"
   ]
  },
  {
   "cell_type": "code",
   "execution_count": 256,
   "metadata": {},
   "outputs": [],
   "source": [
    "B = 500"
   ]
  },
  {
   "cell_type": "code",
   "execution_count": 257,
   "metadata": {},
   "outputs": [],
   "source": [
    "np.random.seed(1234)\n",
    "\n",
    "# Group 0: minority group\n",
    "\n",
    "p0_i = (df.nhblk10 / df.nhblk10.sum())\n",
    "n0 = df.nhblk10.sum()\n",
    "sim0 = np.random.multinomial(n0, p0_i, size = B)\n",
    "\n",
    "# Group 1: complement group\n",
    "p1_i = (df.other_group_pop / df.other_group_pop.sum())\n",
    "n1 = df.other_group_pop.sum()\n",
    "sim1 = np.random.multinomial(n1, p1_i, size = B)"
   ]
  },
  {
   "cell_type": "code",
   "execution_count": 258,
   "metadata": {},
   "outputs": [
    {
     "data": {
      "text/plain": [
       "0.31646728910576133"
      ]
     },
     "execution_count": 258,
     "metadata": {},
     "output_type": "execute_result"
    }
   ],
   "source": [
    "Dbcs = np.empty(B)\n",
    "for i in np.array(range(B)):\n",
    "    data_aux = {'simul_group': sim0[i].tolist(), 'simul_tot': (sim0[i] + sim1[i]).tolist()}\n",
    "    df_aux = pd.DataFrame.from_dict(data_aux)\n",
    "    Dbcs[i] = calculate_dissim(df_aux, 'simul_group', 'simul_tot')\n",
    "Db = Dbcs.mean()\n",
    "Db"
   ]
  },
  {
   "cell_type": "code",
   "execution_count": 259,
   "metadata": {},
   "outputs": [
    {
     "data": {
      "text/plain": [
       "0.31484636081876954"
      ]
     },
     "execution_count": 259,
     "metadata": {},
     "output_type": "execute_result"
    }
   ],
   "source": [
    "Dbc = 2 * D - Db\n",
    "Dbc # It expected to be lower than D, because D is upwarded biased"
   ]
  },
  {
   "cell_type": "markdown",
   "metadata": {},
   "source": [
    "## Dissimilarity Density-Corrected"
   ]
  },
  {
   "cell_type": "markdown",
   "metadata": {},
   "source": [
    "The bias correction works well if the bias is constant for different values of $D_{pop}$. The density correction works with the asymptotic distribution $D$ which is not trivial due to the bias and, therefore, the distribution of $\\sqrt{n^c}(\\hat{p}_j^c - p_j^c)$ is not normal with zero expectation.\n",
    "\n",
    "The distribution of $D$ is related to the folded normal distribution because of the sum of absolute values."
   ]
  },
  {
   "cell_type": "code",
   "execution_count": 205,
   "metadata": {},
   "outputs": [],
   "source": [
    "sigma_hat_j = np.sqrt(((p1_i * (1 - p1_i)) / n1) + ((p0_i * (1 - p0_i)) / n0))\n",
    "theta_hat_j = abs(p1_i - p0_i) / sigma_hat_j"
   ]
  },
  {
   "cell_type": "code",
   "execution_count": 206,
   "metadata": {},
   "outputs": [],
   "source": [
    "# INVERSE OF THE FUNCTION THAT NEEDS TO BE MINIMIZED\n",
    "theta_j = 1.2\n",
    "def fold_norm(x):\n",
    "    y = (-1) * norm.pdf(x - theta_j) + norm.pdf(x + theta_j)\n",
    "    return y"
   ]
  },
  {
   "cell_type": "code",
   "execution_count": 207,
   "metadata": {},
   "outputs": [
    {
     "name": "stdout",
     "output_type": "stream",
     "text": [
      "Optimization terminated successfully.\n",
      "         Current function value: -0.379442\n",
      "         Iterations: 39\n",
      "         Function evaluations: 80\n"
     ]
    }
   ],
   "source": [
    "initial_guesses = np.array(0)\n",
    "res = minimize(fold_norm, \n",
    "               initial_guesses, \n",
    "               method='nelder-mead',\n",
    "               options = {'xtol': 1e-8, 'disp': True})"
   ]
  },
  {
   "cell_type": "code",
   "execution_count": 216,
   "metadata": {},
   "outputs": [
    {
     "data": {
      "text/plain": [
       "1.3085258712768568"
      ]
     },
     "execution_count": 216,
     "metadata": {},
     "output_type": "execute_result"
    }
   ],
   "source": [
    "res.final_simplex[0][1][0] # Point where minimum occurs\n",
    "#res.final_simplex[1][1] # Minimum value of the function"
   ]
  },
  {
   "cell_type": "markdown",
   "metadata": {},
   "source": [
    "Constructing function that returns $n(\\hat{\\theta}_j)$"
   ]
  },
  {
   "cell_type": "code",
   "execution_count": 217,
   "metadata": {},
   "outputs": [],
   "source": [
    "def return_optimal_theta(theta_j):\n",
    "    \n",
    "    def fold_norm(x):\n",
    "        y = (-1) * norm.pdf(x - theta_j) + norm.pdf(x + theta_j)\n",
    "        return y\n",
    "    \n",
    "    initial_guesses = np.array(0)\n",
    "    res = minimize(fold_norm, \n",
    "                   initial_guesses, \n",
    "                   method='nelder-mead',\n",
    "                   options = {'xtol': 1e-8})\n",
    "    return res.final_simplex[0][1][0]"
   ]
  },
  {
   "cell_type": "code",
   "execution_count": 218,
   "metadata": {},
   "outputs": [
    {
     "data": {
      "text/plain": [
       "1.5307052841186537"
      ]
     },
     "execution_count": 218,
     "metadata": {},
     "output_type": "execute_result"
    }
   ],
   "source": [
    "return_optimal_theta(1.5)"
   ]
  },
  {
   "cell_type": "code",
   "execution_count": 226,
   "metadata": {},
   "outputs": [
    {
     "data": {
      "text/plain": [
       "5727     1.026590e+01\n",
       "5729     5.343340e+00\n",
       "5731     1.364639e+00\n",
       "5733     9.657815e+00\n",
       "5735     9.457704e+00\n",
       "5737     1.524833e+01\n",
       "5739     1.378897e+01\n",
       "5741     2.511840e+01\n",
       "5743     1.428966e+00\n",
       "5745     5.459233e+00\n",
       "5747     2.311372e+01\n",
       "5749     1.969688e+01\n",
       "5751     2.735606e+01\n",
       "5753     1.192382e+01\n",
       "5755     1.669856e+00\n",
       "5757     3.679724e+00\n",
       "5759     7.637636e+00\n",
       "5761     1.181816e+01\n",
       "5763     7.420035e+00\n",
       "5765     1.343866e+01\n",
       "5767     8.367763e+00\n",
       "5769     1.112624e+01\n",
       "5771     1.071177e+00\n",
       "5773     1.036354e+01\n",
       "5775     3.664352e+01\n",
       "5777     1.725656e+01\n",
       "5779     8.746915e+00\n",
       "5781     2.617593e+01\n",
       "5783     3.437409e+01\n",
       "5785     1.676957e+01\n",
       "             ...     \n",
       "12757    1.349969e+01\n",
       "12762    4.817937e+00\n",
       "12765    8.356934e+00\n",
       "12767    3.283314e+01\n",
       "12771    2.158831e+01\n",
       "12773    1.173930e+01\n",
       "12775    4.255239e+00\n",
       "12777    2.923079e+01\n",
       "12779    2.010700e+01\n",
       "12784    3.439865e+01\n",
       "12787    2.194113e+01\n",
       "12792    1.747169e+01\n",
       "12794    2.600516e+01\n",
       "12796    7.629395e-09\n",
       "12801    3.841489e+00\n",
       "12811    7.629395e-09\n",
       "12813    4.506021e+00\n",
       "12815    7.629395e-09\n",
       "12817    1.703914e+01\n",
       "12819    2.408634e+01\n",
       "12821    1.608134e+01\n",
       "12823    1.794543e+01\n",
       "12825    1.518819e+01\n",
       "12827    1.030386e+01\n",
       "12829    2.422345e+01\n",
       "12831    1.136955e+01\n",
       "12833    4.865102e+00\n",
       "12835    3.235604e+00\n",
       "12837    4.820947e+00\n",
       "12840    3.537974e+01\n",
       "Length: 453, dtype: float64"
      ]
     },
     "execution_count": 226,
     "metadata": {},
     "output_type": "execute_result"
    }
   ],
   "source": [
    "# Applying a function over all elements of a pandas Series\n",
    "optimal_thetas = theta_hat_j.apply(return_optimal_theta)\n",
    "optimal_thetas"
   ]
  },
  {
   "cell_type": "code",
   "execution_count": 231,
   "metadata": {},
   "outputs": [
    {
     "data": {
      "text/plain": [
       "0.2954881746588274"
      ]
     },
     "execution_count": 231,
     "metadata": {},
     "output_type": "execute_result"
    }
   ],
   "source": [
    "Ddc = (sigma_hat_j * optimal_thetas).sum() / 2\n",
    "Ddc"
   ]
  },
  {
   "cell_type": "code",
   "execution_count": null,
   "metadata": {},
   "outputs": [],
   "source": []
  }
 ],
 "metadata": {
  "kernelspec": {
   "display_name": "Python 3",
   "language": "python",
   "name": "python3"
  },
  "language_info": {
   "codemirror_mode": {
    "name": "ipython",
    "version": 3
   },
   "file_extension": ".py",
   "mimetype": "text/x-python",
   "name": "python",
   "nbconvert_exporter": "python",
   "pygments_lexer": "ipython3",
   "version": "3.6.5"
  }
 },
 "nbformat": 4,
 "nbformat_minor": 2
}
